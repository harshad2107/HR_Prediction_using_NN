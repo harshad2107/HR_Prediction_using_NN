{
  "cells": [
    {
      "cell_type": "markdown",
      "id": "c2133da4",
      "metadata": {
        "id": "c2133da4"
      },
      "source": [
        "## Simple Neural Network\n",
        "\n",
        "It is a simple classfication problem using HR Data.   It's an attrition prediction. The target variable is 'left'"
      ]
    },
    {
      "cell_type": "code",
      "source": [
        "from google.colab import drive\n",
        "drive.mount('/content/drive')\n"
      ],
      "metadata": {
        "colab": {
          "base_uri": "https://localhost:8080/"
        },
        "id": "_L6GHRw5YkfY",
        "outputId": "f2ffc32c-db2f-407d-d553-b57178b37494"
      },
      "id": "_L6GHRw5YkfY",
      "execution_count": null,
      "outputs": [
        {
          "output_type": "stream",
          "name": "stdout",
          "text": [
            "Mounted at /content/drive\n"
          ]
        }
      ]
    },
    {
      "cell_type": "code",
      "execution_count": null,
      "id": "bb707f99",
      "metadata": {
        "id": "bb707f99"
      },
      "outputs": [],
      "source": [
        "import pandas as pd\n",
        "import numpy as np\n"
      ]
    },
    {
      "cell_type": "code",
      "execution_count": null,
      "id": "a1ea5376",
      "metadata": {
        "id": "a1ea5376",
        "colab": {
          "base_uri": "https://localhost:8080/",
          "height": 270
        },
        "outputId": "d521e218-c4e7-43f5-ef55-33387cb12d2f"
      },
      "outputs": [
        {
          "output_type": "execute_result",
          "data": {
            "text/plain": [
              "   satisfaction_level  last_evaluation  number_project  average_montly_hours  \\\n",
              "0                0.38             0.53               2                   157   \n",
              "1                0.80             0.86               5                   262   \n",
              "2                0.11             0.88               7                   272   \n",
              "3                0.72             0.87               5                   223   \n",
              "4                0.37             0.52               2                   159   \n",
              "\n",
              "   time_spend_company  Work_accident  left  promotion_last_5years department  \\\n",
              "0                   3              0     1                      0      sales   \n",
              "1                   6              0     1                      0      sales   \n",
              "2                   4              0     1                      0      sales   \n",
              "3                   5              0     1                      0      sales   \n",
              "4                   3              0     1                      0      sales   \n",
              "\n",
              "   salary  \n",
              "0     low  \n",
              "1  medium  \n",
              "2  medium  \n",
              "3     low  \n",
              "4     low  "
            ],
            "text/html": [
              "\n",
              "  <div id=\"df-ebdf80fc-cbaf-4e1b-bd47-37c27295f650\">\n",
              "    <div class=\"colab-df-container\">\n",
              "      <div>\n",
              "<style scoped>\n",
              "    .dataframe tbody tr th:only-of-type {\n",
              "        vertical-align: middle;\n",
              "    }\n",
              "\n",
              "    .dataframe tbody tr th {\n",
              "        vertical-align: top;\n",
              "    }\n",
              "\n",
              "    .dataframe thead th {\n",
              "        text-align: right;\n",
              "    }\n",
              "</style>\n",
              "<table border=\"1\" class=\"dataframe\">\n",
              "  <thead>\n",
              "    <tr style=\"text-align: right;\">\n",
              "      <th></th>\n",
              "      <th>satisfaction_level</th>\n",
              "      <th>last_evaluation</th>\n",
              "      <th>number_project</th>\n",
              "      <th>average_montly_hours</th>\n",
              "      <th>time_spend_company</th>\n",
              "      <th>Work_accident</th>\n",
              "      <th>left</th>\n",
              "      <th>promotion_last_5years</th>\n",
              "      <th>department</th>\n",
              "      <th>salary</th>\n",
              "    </tr>\n",
              "  </thead>\n",
              "  <tbody>\n",
              "    <tr>\n",
              "      <th>0</th>\n",
              "      <td>0.38</td>\n",
              "      <td>0.53</td>\n",
              "      <td>2</td>\n",
              "      <td>157</td>\n",
              "      <td>3</td>\n",
              "      <td>0</td>\n",
              "      <td>1</td>\n",
              "      <td>0</td>\n",
              "      <td>sales</td>\n",
              "      <td>low</td>\n",
              "    </tr>\n",
              "    <tr>\n",
              "      <th>1</th>\n",
              "      <td>0.80</td>\n",
              "      <td>0.86</td>\n",
              "      <td>5</td>\n",
              "      <td>262</td>\n",
              "      <td>6</td>\n",
              "      <td>0</td>\n",
              "      <td>1</td>\n",
              "      <td>0</td>\n",
              "      <td>sales</td>\n",
              "      <td>medium</td>\n",
              "    </tr>\n",
              "    <tr>\n",
              "      <th>2</th>\n",
              "      <td>0.11</td>\n",
              "      <td>0.88</td>\n",
              "      <td>7</td>\n",
              "      <td>272</td>\n",
              "      <td>4</td>\n",
              "      <td>0</td>\n",
              "      <td>1</td>\n",
              "      <td>0</td>\n",
              "      <td>sales</td>\n",
              "      <td>medium</td>\n",
              "    </tr>\n",
              "    <tr>\n",
              "      <th>3</th>\n",
              "      <td>0.72</td>\n",
              "      <td>0.87</td>\n",
              "      <td>5</td>\n",
              "      <td>223</td>\n",
              "      <td>5</td>\n",
              "      <td>0</td>\n",
              "      <td>1</td>\n",
              "      <td>0</td>\n",
              "      <td>sales</td>\n",
              "      <td>low</td>\n",
              "    </tr>\n",
              "    <tr>\n",
              "      <th>4</th>\n",
              "      <td>0.37</td>\n",
              "      <td>0.52</td>\n",
              "      <td>2</td>\n",
              "      <td>159</td>\n",
              "      <td>3</td>\n",
              "      <td>0</td>\n",
              "      <td>1</td>\n",
              "      <td>0</td>\n",
              "      <td>sales</td>\n",
              "      <td>low</td>\n",
              "    </tr>\n",
              "  </tbody>\n",
              "</table>\n",
              "</div>\n",
              "      <button class=\"colab-df-convert\" onclick=\"convertToInteractive('df-ebdf80fc-cbaf-4e1b-bd47-37c27295f650')\"\n",
              "              title=\"Convert this dataframe to an interactive table.\"\n",
              "              style=\"display:none;\">\n",
              "        \n",
              "  <svg xmlns=\"http://www.w3.org/2000/svg\" height=\"24px\"viewBox=\"0 0 24 24\"\n",
              "       width=\"24px\">\n",
              "    <path d=\"M0 0h24v24H0V0z\" fill=\"none\"/>\n",
              "    <path d=\"M18.56 5.44l.94 2.06.94-2.06 2.06-.94-2.06-.94-.94-2.06-.94 2.06-2.06.94zm-11 1L8.5 8.5l.94-2.06 2.06-.94-2.06-.94L8.5 2.5l-.94 2.06-2.06.94zm10 10l.94 2.06.94-2.06 2.06-.94-2.06-.94-.94-2.06-.94 2.06-2.06.94z\"/><path d=\"M17.41 7.96l-1.37-1.37c-.4-.4-.92-.59-1.43-.59-.52 0-1.04.2-1.43.59L10.3 9.45l-7.72 7.72c-.78.78-.78 2.05 0 2.83L4 21.41c.39.39.9.59 1.41.59.51 0 1.02-.2 1.41-.59l7.78-7.78 2.81-2.81c.8-.78.8-2.07 0-2.86zM5.41 20L4 18.59l7.72-7.72 1.47 1.35L5.41 20z\"/>\n",
              "  </svg>\n",
              "      </button>\n",
              "      \n",
              "  <style>\n",
              "    .colab-df-container {\n",
              "      display:flex;\n",
              "      flex-wrap:wrap;\n",
              "      gap: 12px;\n",
              "    }\n",
              "\n",
              "    .colab-df-convert {\n",
              "      background-color: #E8F0FE;\n",
              "      border: none;\n",
              "      border-radius: 50%;\n",
              "      cursor: pointer;\n",
              "      display: none;\n",
              "      fill: #1967D2;\n",
              "      height: 32px;\n",
              "      padding: 0 0 0 0;\n",
              "      width: 32px;\n",
              "    }\n",
              "\n",
              "    .colab-df-convert:hover {\n",
              "      background-color: #E2EBFA;\n",
              "      box-shadow: 0px 1px 2px rgba(60, 64, 67, 0.3), 0px 1px 3px 1px rgba(60, 64, 67, 0.15);\n",
              "      fill: #174EA6;\n",
              "    }\n",
              "\n",
              "    [theme=dark] .colab-df-convert {\n",
              "      background-color: #3B4455;\n",
              "      fill: #D2E3FC;\n",
              "    }\n",
              "\n",
              "    [theme=dark] .colab-df-convert:hover {\n",
              "      background-color: #434B5C;\n",
              "      box-shadow: 0px 1px 3px 1px rgba(0, 0, 0, 0.15);\n",
              "      filter: drop-shadow(0px 1px 2px rgba(0, 0, 0, 0.3));\n",
              "      fill: #FFFFFF;\n",
              "    }\n",
              "  </style>\n",
              "\n",
              "      <script>\n",
              "        const buttonEl =\n",
              "          document.querySelector('#df-ebdf80fc-cbaf-4e1b-bd47-37c27295f650 button.colab-df-convert');\n",
              "        buttonEl.style.display =\n",
              "          google.colab.kernel.accessAllowed ? 'block' : 'none';\n",
              "\n",
              "        async function convertToInteractive(key) {\n",
              "          const element = document.querySelector('#df-ebdf80fc-cbaf-4e1b-bd47-37c27295f650');\n",
              "          const dataTable =\n",
              "            await google.colab.kernel.invokeFunction('convertToInteractive',\n",
              "                                                     [key], {});\n",
              "          if (!dataTable) return;\n",
              "\n",
              "          const docLinkHtml = 'Like what you see? Visit the ' +\n",
              "            '<a target=\"_blank\" href=https://colab.research.google.com/notebooks/data_table.ipynb>data table notebook</a>'\n",
              "            + ' to learn more about interactive tables.';\n",
              "          element.innerHTML = '';\n",
              "          dataTable['output_type'] = 'display_data';\n",
              "          await google.colab.output.renderOutput(dataTable, element);\n",
              "          const docLink = document.createElement('div');\n",
              "          docLink.innerHTML = docLinkHtml;\n",
              "          element.appendChild(docLink);\n",
              "        }\n",
              "      </script>\n",
              "    </div>\n",
              "  </div>\n",
              "  "
            ]
          },
          "metadata": {},
          "execution_count": 4
        }
      ],
      "source": [
        "## Reading the data\n",
        "df = pd.read_csv(\"/content/hr_data.csv\")\n",
        "df.head()"
      ]
    },
    {
      "cell_type": "code",
      "execution_count": null,
      "id": "71509a0c",
      "metadata": {
        "colab": {
          "base_uri": "https://localhost:8080/"
        },
        "id": "71509a0c",
        "outputId": "3da89f4e-f571-4af8-b9e2-cbf13e463c1e"
      },
      "outputs": [
        {
          "output_type": "stream",
          "name": "stdout",
          "text": [
            "<class 'pandas.core.frame.DataFrame'>\n",
            "RangeIndex: 14999 entries, 0 to 14998\n",
            "Data columns (total 10 columns):\n",
            " #   Column                 Non-Null Count  Dtype  \n",
            "---  ------                 --------------  -----  \n",
            " 0   satisfaction_level     14999 non-null  float64\n",
            " 1   last_evaluation        14999 non-null  float64\n",
            " 2   number_project         14999 non-null  int64  \n",
            " 3   average_montly_hours   14999 non-null  int64  \n",
            " 4   time_spend_company     14999 non-null  int64  \n",
            " 5   Work_accident          14999 non-null  int64  \n",
            " 6   left                   14999 non-null  int64  \n",
            " 7   promotion_last_5years  14999 non-null  int64  \n",
            " 8   department             14999 non-null  object \n",
            " 9   salary                 14999 non-null  object \n",
            "dtypes: float64(2), int64(6), object(2)\n",
            "memory usage: 1.1+ MB\n"
          ]
        }
      ],
      "source": [
        "df.info()"
      ]
    },
    {
      "cell_type": "code",
      "execution_count": null,
      "id": "e20228b0",
      "metadata": {
        "id": "e20228b0",
        "outputId": "1d28ea31-ecd6-4fe1-b584-7dff43d8ee8c",
        "colab": {
          "base_uri": "https://localhost:8080/",
          "height": 270
        }
      },
      "outputs": [
        {
          "output_type": "execute_result",
          "data": {
            "text/plain": [
              "   satisfaction_level  last_evaluation  number_project  average_montly_hours  \\\n",
              "0                0.38             0.53               2                   157   \n",
              "1                0.80             0.86               5                   262   \n",
              "2                0.11             0.88               7                   272   \n",
              "3                0.72             0.87               5                   223   \n",
              "4                0.37             0.52               2                   159   \n",
              "\n",
              "   time_spend_company  Work_accident  left  promotion_last_5years department  \\\n",
              "0                   3              0     1                      0      sales   \n",
              "1                   6              0     1                      0      sales   \n",
              "2                   4              0     1                      0      sales   \n",
              "3                   5              0     1                      0      sales   \n",
              "4                   3              0     1                      0      sales   \n",
              "\n",
              "   salary  \n",
              "0     low  \n",
              "1  medium  \n",
              "2  medium  \n",
              "3     low  \n",
              "4     low  "
            ],
            "text/html": [
              "\n",
              "  <div id=\"df-3d0c6609-a0e3-4ac0-a885-3d5f7864bd93\">\n",
              "    <div class=\"colab-df-container\">\n",
              "      <div>\n",
              "<style scoped>\n",
              "    .dataframe tbody tr th:only-of-type {\n",
              "        vertical-align: middle;\n",
              "    }\n",
              "\n",
              "    .dataframe tbody tr th {\n",
              "        vertical-align: top;\n",
              "    }\n",
              "\n",
              "    .dataframe thead th {\n",
              "        text-align: right;\n",
              "    }\n",
              "</style>\n",
              "<table border=\"1\" class=\"dataframe\">\n",
              "  <thead>\n",
              "    <tr style=\"text-align: right;\">\n",
              "      <th></th>\n",
              "      <th>satisfaction_level</th>\n",
              "      <th>last_evaluation</th>\n",
              "      <th>number_project</th>\n",
              "      <th>average_montly_hours</th>\n",
              "      <th>time_spend_company</th>\n",
              "      <th>Work_accident</th>\n",
              "      <th>left</th>\n",
              "      <th>promotion_last_5years</th>\n",
              "      <th>department</th>\n",
              "      <th>salary</th>\n",
              "    </tr>\n",
              "  </thead>\n",
              "  <tbody>\n",
              "    <tr>\n",
              "      <th>0</th>\n",
              "      <td>0.38</td>\n",
              "      <td>0.53</td>\n",
              "      <td>2</td>\n",
              "      <td>157</td>\n",
              "      <td>3</td>\n",
              "      <td>0</td>\n",
              "      <td>1</td>\n",
              "      <td>0</td>\n",
              "      <td>sales</td>\n",
              "      <td>low</td>\n",
              "    </tr>\n",
              "    <tr>\n",
              "      <th>1</th>\n",
              "      <td>0.80</td>\n",
              "      <td>0.86</td>\n",
              "      <td>5</td>\n",
              "      <td>262</td>\n",
              "      <td>6</td>\n",
              "      <td>0</td>\n",
              "      <td>1</td>\n",
              "      <td>0</td>\n",
              "      <td>sales</td>\n",
              "      <td>medium</td>\n",
              "    </tr>\n",
              "    <tr>\n",
              "      <th>2</th>\n",
              "      <td>0.11</td>\n",
              "      <td>0.88</td>\n",
              "      <td>7</td>\n",
              "      <td>272</td>\n",
              "      <td>4</td>\n",
              "      <td>0</td>\n",
              "      <td>1</td>\n",
              "      <td>0</td>\n",
              "      <td>sales</td>\n",
              "      <td>medium</td>\n",
              "    </tr>\n",
              "    <tr>\n",
              "      <th>3</th>\n",
              "      <td>0.72</td>\n",
              "      <td>0.87</td>\n",
              "      <td>5</td>\n",
              "      <td>223</td>\n",
              "      <td>5</td>\n",
              "      <td>0</td>\n",
              "      <td>1</td>\n",
              "      <td>0</td>\n",
              "      <td>sales</td>\n",
              "      <td>low</td>\n",
              "    </tr>\n",
              "    <tr>\n",
              "      <th>4</th>\n",
              "      <td>0.37</td>\n",
              "      <td>0.52</td>\n",
              "      <td>2</td>\n",
              "      <td>159</td>\n",
              "      <td>3</td>\n",
              "      <td>0</td>\n",
              "      <td>1</td>\n",
              "      <td>0</td>\n",
              "      <td>sales</td>\n",
              "      <td>low</td>\n",
              "    </tr>\n",
              "  </tbody>\n",
              "</table>\n",
              "</div>\n",
              "      <button class=\"colab-df-convert\" onclick=\"convertToInteractive('df-3d0c6609-a0e3-4ac0-a885-3d5f7864bd93')\"\n",
              "              title=\"Convert this dataframe to an interactive table.\"\n",
              "              style=\"display:none;\">\n",
              "        \n",
              "  <svg xmlns=\"http://www.w3.org/2000/svg\" height=\"24px\"viewBox=\"0 0 24 24\"\n",
              "       width=\"24px\">\n",
              "    <path d=\"M0 0h24v24H0V0z\" fill=\"none\"/>\n",
              "    <path d=\"M18.56 5.44l.94 2.06.94-2.06 2.06-.94-2.06-.94-.94-2.06-.94 2.06-2.06.94zm-11 1L8.5 8.5l.94-2.06 2.06-.94-2.06-.94L8.5 2.5l-.94 2.06-2.06.94zm10 10l.94 2.06.94-2.06 2.06-.94-2.06-.94-.94-2.06-.94 2.06-2.06.94z\"/><path d=\"M17.41 7.96l-1.37-1.37c-.4-.4-.92-.59-1.43-.59-.52 0-1.04.2-1.43.59L10.3 9.45l-7.72 7.72c-.78.78-.78 2.05 0 2.83L4 21.41c.39.39.9.59 1.41.59.51 0 1.02-.2 1.41-.59l7.78-7.78 2.81-2.81c.8-.78.8-2.07 0-2.86zM5.41 20L4 18.59l7.72-7.72 1.47 1.35L5.41 20z\"/>\n",
              "  </svg>\n",
              "      </button>\n",
              "      \n",
              "  <style>\n",
              "    .colab-df-container {\n",
              "      display:flex;\n",
              "      flex-wrap:wrap;\n",
              "      gap: 12px;\n",
              "    }\n",
              "\n",
              "    .colab-df-convert {\n",
              "      background-color: #E8F0FE;\n",
              "      border: none;\n",
              "      border-radius: 50%;\n",
              "      cursor: pointer;\n",
              "      display: none;\n",
              "      fill: #1967D2;\n",
              "      height: 32px;\n",
              "      padding: 0 0 0 0;\n",
              "      width: 32px;\n",
              "    }\n",
              "\n",
              "    .colab-df-convert:hover {\n",
              "      background-color: #E2EBFA;\n",
              "      box-shadow: 0px 1px 2px rgba(60, 64, 67, 0.3), 0px 1px 3px 1px rgba(60, 64, 67, 0.15);\n",
              "      fill: #174EA6;\n",
              "    }\n",
              "\n",
              "    [theme=dark] .colab-df-convert {\n",
              "      background-color: #3B4455;\n",
              "      fill: #D2E3FC;\n",
              "    }\n",
              "\n",
              "    [theme=dark] .colab-df-convert:hover {\n",
              "      background-color: #434B5C;\n",
              "      box-shadow: 0px 1px 3px 1px rgba(0, 0, 0, 0.15);\n",
              "      filter: drop-shadow(0px 1px 2px rgba(0, 0, 0, 0.3));\n",
              "      fill: #FFFFFF;\n",
              "    }\n",
              "  </style>\n",
              "\n",
              "      <script>\n",
              "        const buttonEl =\n",
              "          document.querySelector('#df-3d0c6609-a0e3-4ac0-a885-3d5f7864bd93 button.colab-df-convert');\n",
              "        buttonEl.style.display =\n",
              "          google.colab.kernel.accessAllowed ? 'block' : 'none';\n",
              "\n",
              "        async function convertToInteractive(key) {\n",
              "          const element = document.querySelector('#df-3d0c6609-a0e3-4ac0-a885-3d5f7864bd93');\n",
              "          const dataTable =\n",
              "            await google.colab.kernel.invokeFunction('convertToInteractive',\n",
              "                                                     [key], {});\n",
              "          if (!dataTable) return;\n",
              "\n",
              "          const docLinkHtml = 'Like what you see? Visit the ' +\n",
              "            '<a target=\"_blank\" href=https://colab.research.google.com/notebooks/data_table.ipynb>data table notebook</a>'\n",
              "            + ' to learn more about interactive tables.';\n",
              "          element.innerHTML = '';\n",
              "          dataTable['output_type'] = 'display_data';\n",
              "          await google.colab.output.renderOutput(dataTable, element);\n",
              "          const docLink = document.createElement('div');\n",
              "          docLink.innerHTML = docLinkHtml;\n",
              "          element.appendChild(docLink);\n",
              "        }\n",
              "      </script>\n",
              "    </div>\n",
              "  </div>\n",
              "  "
            ]
          },
          "metadata": {},
          "execution_count": 6
        }
      ],
      "source": [
        "df.head()"
      ]
    },
    {
      "cell_type": "code",
      "execution_count": null,
      "id": "1b1fc528",
      "metadata": {
        "colab": {
          "base_uri": "https://localhost:8080/"
        },
        "id": "1b1fc528",
        "outputId": "b7f2ae23-5b21-4bf0-892e-6d1ae8c89203"
      },
      "outputs": [
        {
          "output_type": "execute_result",
          "data": {
            "text/plain": [
              "satisfaction_level       0\n",
              "last_evaluation          0\n",
              "number_project           0\n",
              "average_montly_hours     0\n",
              "time_spend_company       0\n",
              "Work_accident            0\n",
              "left                     0\n",
              "promotion_last_5years    0\n",
              "department               0\n",
              "salary                   0\n",
              "dtype: int64"
            ]
          },
          "metadata": {},
          "execution_count": 7
        }
      ],
      "source": [
        "## Checking the missing values\n",
        "df.isnull().sum()\n",
        "\n",
        "## There are no missing values"
      ]
    },
    {
      "cell_type": "code",
      "execution_count": null,
      "id": "8ee1d799",
      "metadata": {
        "colab": {
          "base_uri": "https://localhost:8080/"
        },
        "id": "8ee1d799",
        "outputId": "770b4bed-3879-4986-a99f-610a5644e1fb"
      },
      "outputs": [
        {
          "output_type": "execute_result",
          "data": {
            "text/plain": [
              "0    11428\n",
              "1     3571\n",
              "Name: left, dtype: int64"
            ]
          },
          "metadata": {},
          "execution_count": 8
        }
      ],
      "source": [
        "## Checking the target variable\n",
        "df.left.value_counts()"
      ]
    },
    {
      "cell_type": "code",
      "execution_count": null,
      "id": "906c05da",
      "metadata": {
        "colab": {
          "base_uri": "https://localhost:8080/",
          "height": 364
        },
        "id": "906c05da",
        "outputId": "e716b361-d725-467c-b774-a1e1eda0a018"
      },
      "outputs": [
        {
          "output_type": "execute_result",
          "data": {
            "text/plain": [
              "       satisfaction_level  last_evaluation  number_project  \\\n",
              "count        14999.000000     14999.000000    14999.000000   \n",
              "mean             0.612834         0.716102        3.803054   \n",
              "std              0.248631         0.171169        1.232592   \n",
              "min              0.090000         0.360000        2.000000   \n",
              "25%              0.440000         0.560000        3.000000   \n",
              "50%              0.640000         0.720000        4.000000   \n",
              "75%              0.820000         0.870000        5.000000   \n",
              "max              1.000000         1.000000        7.000000   \n",
              "\n",
              "       average_montly_hours  time_spend_company  Work_accident          left  \\\n",
              "count          14999.000000        14999.000000   14999.000000  14999.000000   \n",
              "mean             201.050337            3.498233       0.144610      0.238083   \n",
              "std               49.943099            1.460136       0.351719      0.425924   \n",
              "min               96.000000            2.000000       0.000000      0.000000   \n",
              "25%              156.000000            3.000000       0.000000      0.000000   \n",
              "50%              200.000000            3.000000       0.000000      0.000000   \n",
              "75%              245.000000            4.000000       0.000000      0.000000   \n",
              "max              310.000000           10.000000       1.000000      1.000000   \n",
              "\n",
              "       promotion_last_5years  \n",
              "count           14999.000000  \n",
              "mean                0.021268  \n",
              "std                 0.144281  \n",
              "min                 0.000000  \n",
              "25%                 0.000000  \n",
              "50%                 0.000000  \n",
              "75%                 0.000000  \n",
              "max                 1.000000  "
            ],
            "text/html": [
              "\n",
              "  <div id=\"df-b43270ce-e2d1-48cb-8dec-1de1f17dfd1d\">\n",
              "    <div class=\"colab-df-container\">\n",
              "      <div>\n",
              "<style scoped>\n",
              "    .dataframe tbody tr th:only-of-type {\n",
              "        vertical-align: middle;\n",
              "    }\n",
              "\n",
              "    .dataframe tbody tr th {\n",
              "        vertical-align: top;\n",
              "    }\n",
              "\n",
              "    .dataframe thead th {\n",
              "        text-align: right;\n",
              "    }\n",
              "</style>\n",
              "<table border=\"1\" class=\"dataframe\">\n",
              "  <thead>\n",
              "    <tr style=\"text-align: right;\">\n",
              "      <th></th>\n",
              "      <th>satisfaction_level</th>\n",
              "      <th>last_evaluation</th>\n",
              "      <th>number_project</th>\n",
              "      <th>average_montly_hours</th>\n",
              "      <th>time_spend_company</th>\n",
              "      <th>Work_accident</th>\n",
              "      <th>left</th>\n",
              "      <th>promotion_last_5years</th>\n",
              "    </tr>\n",
              "  </thead>\n",
              "  <tbody>\n",
              "    <tr>\n",
              "      <th>count</th>\n",
              "      <td>14999.000000</td>\n",
              "      <td>14999.000000</td>\n",
              "      <td>14999.000000</td>\n",
              "      <td>14999.000000</td>\n",
              "      <td>14999.000000</td>\n",
              "      <td>14999.000000</td>\n",
              "      <td>14999.000000</td>\n",
              "      <td>14999.000000</td>\n",
              "    </tr>\n",
              "    <tr>\n",
              "      <th>mean</th>\n",
              "      <td>0.612834</td>\n",
              "      <td>0.716102</td>\n",
              "      <td>3.803054</td>\n",
              "      <td>201.050337</td>\n",
              "      <td>3.498233</td>\n",
              "      <td>0.144610</td>\n",
              "      <td>0.238083</td>\n",
              "      <td>0.021268</td>\n",
              "    </tr>\n",
              "    <tr>\n",
              "      <th>std</th>\n",
              "      <td>0.248631</td>\n",
              "      <td>0.171169</td>\n",
              "      <td>1.232592</td>\n",
              "      <td>49.943099</td>\n",
              "      <td>1.460136</td>\n",
              "      <td>0.351719</td>\n",
              "      <td>0.425924</td>\n",
              "      <td>0.144281</td>\n",
              "    </tr>\n",
              "    <tr>\n",
              "      <th>min</th>\n",
              "      <td>0.090000</td>\n",
              "      <td>0.360000</td>\n",
              "      <td>2.000000</td>\n",
              "      <td>96.000000</td>\n",
              "      <td>2.000000</td>\n",
              "      <td>0.000000</td>\n",
              "      <td>0.000000</td>\n",
              "      <td>0.000000</td>\n",
              "    </tr>\n",
              "    <tr>\n",
              "      <th>25%</th>\n",
              "      <td>0.440000</td>\n",
              "      <td>0.560000</td>\n",
              "      <td>3.000000</td>\n",
              "      <td>156.000000</td>\n",
              "      <td>3.000000</td>\n",
              "      <td>0.000000</td>\n",
              "      <td>0.000000</td>\n",
              "      <td>0.000000</td>\n",
              "    </tr>\n",
              "    <tr>\n",
              "      <th>50%</th>\n",
              "      <td>0.640000</td>\n",
              "      <td>0.720000</td>\n",
              "      <td>4.000000</td>\n",
              "      <td>200.000000</td>\n",
              "      <td>3.000000</td>\n",
              "      <td>0.000000</td>\n",
              "      <td>0.000000</td>\n",
              "      <td>0.000000</td>\n",
              "    </tr>\n",
              "    <tr>\n",
              "      <th>75%</th>\n",
              "      <td>0.820000</td>\n",
              "      <td>0.870000</td>\n",
              "      <td>5.000000</td>\n",
              "      <td>245.000000</td>\n",
              "      <td>4.000000</td>\n",
              "      <td>0.000000</td>\n",
              "      <td>0.000000</td>\n",
              "      <td>0.000000</td>\n",
              "    </tr>\n",
              "    <tr>\n",
              "      <th>max</th>\n",
              "      <td>1.000000</td>\n",
              "      <td>1.000000</td>\n",
              "      <td>7.000000</td>\n",
              "      <td>310.000000</td>\n",
              "      <td>10.000000</td>\n",
              "      <td>1.000000</td>\n",
              "      <td>1.000000</td>\n",
              "      <td>1.000000</td>\n",
              "    </tr>\n",
              "  </tbody>\n",
              "</table>\n",
              "</div>\n",
              "      <button class=\"colab-df-convert\" onclick=\"convertToInteractive('df-b43270ce-e2d1-48cb-8dec-1de1f17dfd1d')\"\n",
              "              title=\"Convert this dataframe to an interactive table.\"\n",
              "              style=\"display:none;\">\n",
              "        \n",
              "  <svg xmlns=\"http://www.w3.org/2000/svg\" height=\"24px\"viewBox=\"0 0 24 24\"\n",
              "       width=\"24px\">\n",
              "    <path d=\"M0 0h24v24H0V0z\" fill=\"none\"/>\n",
              "    <path d=\"M18.56 5.44l.94 2.06.94-2.06 2.06-.94-2.06-.94-.94-2.06-.94 2.06-2.06.94zm-11 1L8.5 8.5l.94-2.06 2.06-.94-2.06-.94L8.5 2.5l-.94 2.06-2.06.94zm10 10l.94 2.06.94-2.06 2.06-.94-2.06-.94-.94-2.06-.94 2.06-2.06.94z\"/><path d=\"M17.41 7.96l-1.37-1.37c-.4-.4-.92-.59-1.43-.59-.52 0-1.04.2-1.43.59L10.3 9.45l-7.72 7.72c-.78.78-.78 2.05 0 2.83L4 21.41c.39.39.9.59 1.41.59.51 0 1.02-.2 1.41-.59l7.78-7.78 2.81-2.81c.8-.78.8-2.07 0-2.86zM5.41 20L4 18.59l7.72-7.72 1.47 1.35L5.41 20z\"/>\n",
              "  </svg>\n",
              "      </button>\n",
              "      \n",
              "  <style>\n",
              "    .colab-df-container {\n",
              "      display:flex;\n",
              "      flex-wrap:wrap;\n",
              "      gap: 12px;\n",
              "    }\n",
              "\n",
              "    .colab-df-convert {\n",
              "      background-color: #E8F0FE;\n",
              "      border: none;\n",
              "      border-radius: 50%;\n",
              "      cursor: pointer;\n",
              "      display: none;\n",
              "      fill: #1967D2;\n",
              "      height: 32px;\n",
              "      padding: 0 0 0 0;\n",
              "      width: 32px;\n",
              "    }\n",
              "\n",
              "    .colab-df-convert:hover {\n",
              "      background-color: #E2EBFA;\n",
              "      box-shadow: 0px 1px 2px rgba(60, 64, 67, 0.3), 0px 1px 3px 1px rgba(60, 64, 67, 0.15);\n",
              "      fill: #174EA6;\n",
              "    }\n",
              "\n",
              "    [theme=dark] .colab-df-convert {\n",
              "      background-color: #3B4455;\n",
              "      fill: #D2E3FC;\n",
              "    }\n",
              "\n",
              "    [theme=dark] .colab-df-convert:hover {\n",
              "      background-color: #434B5C;\n",
              "      box-shadow: 0px 1px 3px 1px rgba(0, 0, 0, 0.15);\n",
              "      filter: drop-shadow(0px 1px 2px rgba(0, 0, 0, 0.3));\n",
              "      fill: #FFFFFF;\n",
              "    }\n",
              "  </style>\n",
              "\n",
              "      <script>\n",
              "        const buttonEl =\n",
              "          document.querySelector('#df-b43270ce-e2d1-48cb-8dec-1de1f17dfd1d button.colab-df-convert');\n",
              "        buttonEl.style.display =\n",
              "          google.colab.kernel.accessAllowed ? 'block' : 'none';\n",
              "\n",
              "        async function convertToInteractive(key) {\n",
              "          const element = document.querySelector('#df-b43270ce-e2d1-48cb-8dec-1de1f17dfd1d');\n",
              "          const dataTable =\n",
              "            await google.colab.kernel.invokeFunction('convertToInteractive',\n",
              "                                                     [key], {});\n",
              "          if (!dataTable) return;\n",
              "\n",
              "          const docLinkHtml = 'Like what you see? Visit the ' +\n",
              "            '<a target=\"_blank\" href=https://colab.research.google.com/notebooks/data_table.ipynb>data table notebook</a>'\n",
              "            + ' to learn more about interactive tables.';\n",
              "          element.innerHTML = '';\n",
              "          dataTable['output_type'] = 'display_data';\n",
              "          await google.colab.output.renderOutput(dataTable, element);\n",
              "          const docLink = document.createElement('div');\n",
              "          docLink.innerHTML = docLinkHtml;\n",
              "          element.appendChild(docLink);\n",
              "        }\n",
              "      </script>\n",
              "    </div>\n",
              "  </div>\n",
              "  "
            ]
          },
          "metadata": {},
          "execution_count": 9
        }
      ],
      "source": [
        "df.describe()"
      ]
    },
    {
      "cell_type": "markdown",
      "id": "7b55ec56",
      "metadata": {
        "id": "7b55ec56"
      },
      "source": [
        "Neural networks will accept only numerical data.  Hence we will convert all categorical data into a numerical data using get_dummeis function"
      ]
    },
    {
      "cell_type": "code",
      "execution_count": null,
      "id": "e94f9e1f",
      "metadata": {
        "id": "e94f9e1f"
      },
      "outputs": [],
      "source": [
        "feats = ['department','salary']\n",
        "df_final = pd.get_dummies(df,columns=feats,drop_first=True)"
      ]
    },
    {
      "cell_type": "code",
      "execution_count": null,
      "id": "d09239f7",
      "metadata": {
        "colab": {
          "base_uri": "https://localhost:8080/",
          "height": 270
        },
        "id": "d09239f7",
        "outputId": "09129e4b-6f99-4202-a8c0-05567576b8fd"
      },
      "outputs": [
        {
          "output_type": "execute_result",
          "data": {
            "text/plain": [
              "   satisfaction_level  last_evaluation  number_project  average_montly_hours  \\\n",
              "0                0.38             0.53               2                   157   \n",
              "1                0.80             0.86               5                   262   \n",
              "2                0.11             0.88               7                   272   \n",
              "3                0.72             0.87               5                   223   \n",
              "4                0.37             0.52               2                   159   \n",
              "\n",
              "   time_spend_company  Work_accident  left  promotion_last_5years  \\\n",
              "0                   3              0     1                      0   \n",
              "1                   6              0     1                      0   \n",
              "2                   4              0     1                      0   \n",
              "3                   5              0     1                      0   \n",
              "4                   3              0     1                      0   \n",
              "\n",
              "   department_RandD  department_accounting  department_hr  \\\n",
              "0                 0                      0              0   \n",
              "1                 0                      0              0   \n",
              "2                 0                      0              0   \n",
              "3                 0                      0              0   \n",
              "4                 0                      0              0   \n",
              "\n",
              "   department_management  department_marketing  department_product_mng  \\\n",
              "0                      0                     0                       0   \n",
              "1                      0                     0                       0   \n",
              "2                      0                     0                       0   \n",
              "3                      0                     0                       0   \n",
              "4                      0                     0                       0   \n",
              "\n",
              "   department_sales  department_support  department_technical  salary_low  \\\n",
              "0                 1                   0                     0           1   \n",
              "1                 1                   0                     0           0   \n",
              "2                 1                   0                     0           0   \n",
              "3                 1                   0                     0           1   \n",
              "4                 1                   0                     0           1   \n",
              "\n",
              "   salary_medium  \n",
              "0              0  \n",
              "1              1  \n",
              "2              1  \n",
              "3              0  \n",
              "4              0  "
            ],
            "text/html": [
              "\n",
              "  <div id=\"df-66c7d4a8-3c5d-4ce7-9724-5d181c981274\">\n",
              "    <div class=\"colab-df-container\">\n",
              "      <div>\n",
              "<style scoped>\n",
              "    .dataframe tbody tr th:only-of-type {\n",
              "        vertical-align: middle;\n",
              "    }\n",
              "\n",
              "    .dataframe tbody tr th {\n",
              "        vertical-align: top;\n",
              "    }\n",
              "\n",
              "    .dataframe thead th {\n",
              "        text-align: right;\n",
              "    }\n",
              "</style>\n",
              "<table border=\"1\" class=\"dataframe\">\n",
              "  <thead>\n",
              "    <tr style=\"text-align: right;\">\n",
              "      <th></th>\n",
              "      <th>satisfaction_level</th>\n",
              "      <th>last_evaluation</th>\n",
              "      <th>number_project</th>\n",
              "      <th>average_montly_hours</th>\n",
              "      <th>time_spend_company</th>\n",
              "      <th>Work_accident</th>\n",
              "      <th>left</th>\n",
              "      <th>promotion_last_5years</th>\n",
              "      <th>department_RandD</th>\n",
              "      <th>department_accounting</th>\n",
              "      <th>department_hr</th>\n",
              "      <th>department_management</th>\n",
              "      <th>department_marketing</th>\n",
              "      <th>department_product_mng</th>\n",
              "      <th>department_sales</th>\n",
              "      <th>department_support</th>\n",
              "      <th>department_technical</th>\n",
              "      <th>salary_low</th>\n",
              "      <th>salary_medium</th>\n",
              "    </tr>\n",
              "  </thead>\n",
              "  <tbody>\n",
              "    <tr>\n",
              "      <th>0</th>\n",
              "      <td>0.38</td>\n",
              "      <td>0.53</td>\n",
              "      <td>2</td>\n",
              "      <td>157</td>\n",
              "      <td>3</td>\n",
              "      <td>0</td>\n",
              "      <td>1</td>\n",
              "      <td>0</td>\n",
              "      <td>0</td>\n",
              "      <td>0</td>\n",
              "      <td>0</td>\n",
              "      <td>0</td>\n",
              "      <td>0</td>\n",
              "      <td>0</td>\n",
              "      <td>1</td>\n",
              "      <td>0</td>\n",
              "      <td>0</td>\n",
              "      <td>1</td>\n",
              "      <td>0</td>\n",
              "    </tr>\n",
              "    <tr>\n",
              "      <th>1</th>\n",
              "      <td>0.80</td>\n",
              "      <td>0.86</td>\n",
              "      <td>5</td>\n",
              "      <td>262</td>\n",
              "      <td>6</td>\n",
              "      <td>0</td>\n",
              "      <td>1</td>\n",
              "      <td>0</td>\n",
              "      <td>0</td>\n",
              "      <td>0</td>\n",
              "      <td>0</td>\n",
              "      <td>0</td>\n",
              "      <td>0</td>\n",
              "      <td>0</td>\n",
              "      <td>1</td>\n",
              "      <td>0</td>\n",
              "      <td>0</td>\n",
              "      <td>0</td>\n",
              "      <td>1</td>\n",
              "    </tr>\n",
              "    <tr>\n",
              "      <th>2</th>\n",
              "      <td>0.11</td>\n",
              "      <td>0.88</td>\n",
              "      <td>7</td>\n",
              "      <td>272</td>\n",
              "      <td>4</td>\n",
              "      <td>0</td>\n",
              "      <td>1</td>\n",
              "      <td>0</td>\n",
              "      <td>0</td>\n",
              "      <td>0</td>\n",
              "      <td>0</td>\n",
              "      <td>0</td>\n",
              "      <td>0</td>\n",
              "      <td>0</td>\n",
              "      <td>1</td>\n",
              "      <td>0</td>\n",
              "      <td>0</td>\n",
              "      <td>0</td>\n",
              "      <td>1</td>\n",
              "    </tr>\n",
              "    <tr>\n",
              "      <th>3</th>\n",
              "      <td>0.72</td>\n",
              "      <td>0.87</td>\n",
              "      <td>5</td>\n",
              "      <td>223</td>\n",
              "      <td>5</td>\n",
              "      <td>0</td>\n",
              "      <td>1</td>\n",
              "      <td>0</td>\n",
              "      <td>0</td>\n",
              "      <td>0</td>\n",
              "      <td>0</td>\n",
              "      <td>0</td>\n",
              "      <td>0</td>\n",
              "      <td>0</td>\n",
              "      <td>1</td>\n",
              "      <td>0</td>\n",
              "      <td>0</td>\n",
              "      <td>1</td>\n",
              "      <td>0</td>\n",
              "    </tr>\n",
              "    <tr>\n",
              "      <th>4</th>\n",
              "      <td>0.37</td>\n",
              "      <td>0.52</td>\n",
              "      <td>2</td>\n",
              "      <td>159</td>\n",
              "      <td>3</td>\n",
              "      <td>0</td>\n",
              "      <td>1</td>\n",
              "      <td>0</td>\n",
              "      <td>0</td>\n",
              "      <td>0</td>\n",
              "      <td>0</td>\n",
              "      <td>0</td>\n",
              "      <td>0</td>\n",
              "      <td>0</td>\n",
              "      <td>1</td>\n",
              "      <td>0</td>\n",
              "      <td>0</td>\n",
              "      <td>1</td>\n",
              "      <td>0</td>\n",
              "    </tr>\n",
              "  </tbody>\n",
              "</table>\n",
              "</div>\n",
              "      <button class=\"colab-df-convert\" onclick=\"convertToInteractive('df-66c7d4a8-3c5d-4ce7-9724-5d181c981274')\"\n",
              "              title=\"Convert this dataframe to an interactive table.\"\n",
              "              style=\"display:none;\">\n",
              "        \n",
              "  <svg xmlns=\"http://www.w3.org/2000/svg\" height=\"24px\"viewBox=\"0 0 24 24\"\n",
              "       width=\"24px\">\n",
              "    <path d=\"M0 0h24v24H0V0z\" fill=\"none\"/>\n",
              "    <path d=\"M18.56 5.44l.94 2.06.94-2.06 2.06-.94-2.06-.94-.94-2.06-.94 2.06-2.06.94zm-11 1L8.5 8.5l.94-2.06 2.06-.94-2.06-.94L8.5 2.5l-.94 2.06-2.06.94zm10 10l.94 2.06.94-2.06 2.06-.94-2.06-.94-.94-2.06-.94 2.06-2.06.94z\"/><path d=\"M17.41 7.96l-1.37-1.37c-.4-.4-.92-.59-1.43-.59-.52 0-1.04.2-1.43.59L10.3 9.45l-7.72 7.72c-.78.78-.78 2.05 0 2.83L4 21.41c.39.39.9.59 1.41.59.51 0 1.02-.2 1.41-.59l7.78-7.78 2.81-2.81c.8-.78.8-2.07 0-2.86zM5.41 20L4 18.59l7.72-7.72 1.47 1.35L5.41 20z\"/>\n",
              "  </svg>\n",
              "      </button>\n",
              "      \n",
              "  <style>\n",
              "    .colab-df-container {\n",
              "      display:flex;\n",
              "      flex-wrap:wrap;\n",
              "      gap: 12px;\n",
              "    }\n",
              "\n",
              "    .colab-df-convert {\n",
              "      background-color: #E8F0FE;\n",
              "      border: none;\n",
              "      border-radius: 50%;\n",
              "      cursor: pointer;\n",
              "      display: none;\n",
              "      fill: #1967D2;\n",
              "      height: 32px;\n",
              "      padding: 0 0 0 0;\n",
              "      width: 32px;\n",
              "    }\n",
              "\n",
              "    .colab-df-convert:hover {\n",
              "      background-color: #E2EBFA;\n",
              "      box-shadow: 0px 1px 2px rgba(60, 64, 67, 0.3), 0px 1px 3px 1px rgba(60, 64, 67, 0.15);\n",
              "      fill: #174EA6;\n",
              "    }\n",
              "\n",
              "    [theme=dark] .colab-df-convert {\n",
              "      background-color: #3B4455;\n",
              "      fill: #D2E3FC;\n",
              "    }\n",
              "\n",
              "    [theme=dark] .colab-df-convert:hover {\n",
              "      background-color: #434B5C;\n",
              "      box-shadow: 0px 1px 3px 1px rgba(0, 0, 0, 0.15);\n",
              "      filter: drop-shadow(0px 1px 2px rgba(0, 0, 0, 0.3));\n",
              "      fill: #FFFFFF;\n",
              "    }\n",
              "  </style>\n",
              "\n",
              "      <script>\n",
              "        const buttonEl =\n",
              "          document.querySelector('#df-66c7d4a8-3c5d-4ce7-9724-5d181c981274 button.colab-df-convert');\n",
              "        buttonEl.style.display =\n",
              "          google.colab.kernel.accessAllowed ? 'block' : 'none';\n",
              "\n",
              "        async function convertToInteractive(key) {\n",
              "          const element = document.querySelector('#df-66c7d4a8-3c5d-4ce7-9724-5d181c981274');\n",
              "          const dataTable =\n",
              "            await google.colab.kernel.invokeFunction('convertToInteractive',\n",
              "                                                     [key], {});\n",
              "          if (!dataTable) return;\n",
              "\n",
              "          const docLinkHtml = 'Like what you see? Visit the ' +\n",
              "            '<a target=\"_blank\" href=https://colab.research.google.com/notebooks/data_table.ipynb>data table notebook</a>'\n",
              "            + ' to learn more about interactive tables.';\n",
              "          element.innerHTML = '';\n",
              "          dataTable['output_type'] = 'display_data';\n",
              "          await google.colab.output.renderOutput(dataTable, element);\n",
              "          const docLink = document.createElement('div');\n",
              "          docLink.innerHTML = docLinkHtml;\n",
              "          element.appendChild(docLink);\n",
              "        }\n",
              "      </script>\n",
              "    </div>\n",
              "  </div>\n",
              "  "
            ]
          },
          "metadata": {},
          "execution_count": 11
        }
      ],
      "source": [
        "df_final.head()"
      ]
    },
    {
      "cell_type": "code",
      "execution_count": null,
      "id": "8b0eedb4",
      "metadata": {
        "id": "8b0eedb4"
      },
      "outputs": [],
      "source": [
        "## Creating Independent and dependent variables\n",
        "X = df_final.drop(['left'],axis=1).values\n",
        "y = df_final['left'].values"
      ]
    },
    {
      "cell_type": "code",
      "execution_count": null,
      "id": "2246729d",
      "metadata": {
        "id": "2246729d"
      },
      "outputs": [],
      "source": [
        "## Splitting the data\n",
        "from sklearn.model_selection import train_test_split\n",
        "X_train, X_test, y_train, y_test = train_test_split(X, y, test_size = .25)"
      ]
    },
    {
      "cell_type": "code",
      "execution_count": null,
      "id": "b7bc9edb",
      "metadata": {
        "id": "b7bc9edb"
      },
      "outputs": [],
      "source": [
        "## Scalling the data\n",
        "from sklearn.preprocessing import StandardScaler\n",
        "sc = StandardScaler()\n",
        "X_train = sc.fit_transform(X_train)\n",
        "X_test = sc.transform(X_test)"
      ]
    },
    {
      "cell_type": "code",
      "execution_count": null,
      "id": "66693fcb",
      "metadata": {
        "colab": {
          "base_uri": "https://localhost:8080/"
        },
        "id": "66693fcb",
        "outputId": "dbd4b183-4856-4426-9632-6eaa78fdeaeb"
      },
      "outputs": [
        {
          "output_type": "execute_result",
          "data": {
            "text/plain": [
              "((11249, 18), (3750, 18))"
            ]
          },
          "metadata": {},
          "execution_count": 15
        }
      ],
      "source": [
        "X_train.shape, X_test.shape"
      ]
    },
    {
      "cell_type": "markdown",
      "id": "cb91a9e6",
      "metadata": {
        "id": "cb91a9e6"
      },
      "source": [
        "### Let us build an ML model"
      ]
    },
    {
      "cell_type": "code",
      "execution_count": null,
      "id": "c7cebab2",
      "metadata": {
        "id": "c7cebab2"
      },
      "outputs": [],
      "source": [
        "from sklearn.linear_model import LogisticRegression\n",
        "lr = LogisticRegression()"
      ]
    },
    {
      "cell_type": "code",
      "execution_count": null,
      "id": "cbb2bed8",
      "metadata": {
        "colab": {
          "base_uri": "https://localhost:8080/"
        },
        "id": "cbb2bed8",
        "outputId": "fb76524d-e686-4fd3-9f8b-d7d28895b69e"
      },
      "outputs": [
        {
          "output_type": "execute_result",
          "data": {
            "text/plain": [
              "LogisticRegression()"
            ]
          },
          "metadata": {},
          "execution_count": 17
        }
      ],
      "source": [
        "lr.fit(X_train, y_train)"
      ]
    },
    {
      "cell_type": "code",
      "execution_count": null,
      "id": "d8a1ee2d",
      "metadata": {
        "id": "d8a1ee2d"
      },
      "outputs": [],
      "source": [
        "y_pred = lr.predict(X_test)"
      ]
    },
    {
      "cell_type": "code",
      "execution_count": null,
      "id": "8aa5a12f",
      "metadata": {
        "colab": {
          "base_uri": "https://localhost:8080/"
        },
        "id": "8aa5a12f",
        "outputId": "5de6a785-3e1e-4eda-8cfd-8db02c7db6ba"
      },
      "outputs": [
        {
          "output_type": "stream",
          "name": "stdout",
          "text": [
            "Accuracy Score:  78.85 %\n"
          ]
        }
      ],
      "source": [
        "from sklearn.metrics import accuracy_score, classification_report, confusion_matrix\n",
        "print('Accuracy Score: ', round(accuracy_score(y_test, y_pred)*100,2), '%')"
      ]
    },
    {
      "cell_type": "code",
      "execution_count": null,
      "id": "0ef21d83",
      "metadata": {
        "colab": {
          "base_uri": "https://localhost:8080/"
        },
        "id": "0ef21d83",
        "outputId": "466d38eb-0ccc-415c-fc61-5f8c63abd945"
      },
      "outputs": [
        {
          "output_type": "stream",
          "name": "stdout",
          "text": [
            "              precision    recall  f1-score   support\n",
            "\n",
            "           0       0.82      0.93      0.87      2839\n",
            "           1       0.61      0.35      0.45       911\n",
            "\n",
            "    accuracy                           0.79      3750\n",
            "   macro avg       0.72      0.64      0.66      3750\n",
            "weighted avg       0.77      0.79      0.77      3750\n",
            "\n"
          ]
        }
      ],
      "source": [
        "print(classification_report(y_test, y_pred))"
      ]
    },
    {
      "cell_type": "code",
      "execution_count": null,
      "id": "bbff473a",
      "metadata": {
        "colab": {
          "base_uri": "https://localhost:8080/"
        },
        "id": "bbff473a",
        "outputId": "88260e64-e5f0-4c38-f3dd-f835cd6a8468"
      },
      "outputs": [
        {
          "output_type": "stream",
          "name": "stdout",
          "text": [
            "[[2638  201]\n",
            " [ 592  319]]\n"
          ]
        }
      ],
      "source": [
        "print(confusion_matrix(y_test, y_pred))"
      ]
    },
    {
      "cell_type": "markdown",
      "id": "c24923fa",
      "metadata": {
        "id": "c24923fa"
      },
      "source": [
        "### Building the Neural Network"
      ]
    },
    {
      "cell_type": "code",
      "execution_count": null,
      "id": "40a5f408",
      "metadata": {
        "id": "40a5f408"
      },
      "outputs": [],
      "source": [
        "## Let us import the required libraries\n",
        "import keras\n",
        "from keras.models import Sequential\n",
        "from keras.layers import Dense"
      ]
    },
    {
      "cell_type": "code",
      "execution_count": null,
      "id": "d604084c",
      "metadata": {
        "id": "d604084c"
      },
      "outputs": [],
      "source": [
        "classifier = Sequential()  ## Instantiate the model"
      ]
    },
    {
      "cell_type": "code",
      "source": [
        "X_train.shape"
      ],
      "metadata": {
        "colab": {
          "base_uri": "https://localhost:8080/"
        },
        "id": "wN46qAKtZrAx",
        "outputId": "dbbb65a4-9005-420f-be5b-844527954657"
      },
      "id": "wN46qAKtZrAx",
      "execution_count": null,
      "outputs": [
        {
          "output_type": "execute_result",
          "data": {
            "text/plain": [
              "(11249, 18)"
            ]
          },
          "metadata": {},
          "execution_count": 24
        }
      ]
    },
    {
      "cell_type": "code",
      "execution_count": null,
      "id": "0cbf3911",
      "metadata": {
        "id": "0cbf3911"
      },
      "outputs": [],
      "source": [
        "## Adding the layers.\n",
        "classifier.add(Dense(18, kernel_initializer = \"uniform\",activation = \"relu\", input_dim=18))  ## Input Layer\n",
        "classifier.add(Dense(9, kernel_initializer = 'uniform', activation = 'relu'))  ## this is Hidden Layer ie 1 and number of nodes is 9"
      ]
    },
    {
      "cell_type": "code",
      "execution_count": null,
      "id": "09760dc5",
      "metadata": {
        "id": "09760dc5"
      },
      "outputs": [],
      "source": [
        "classifier.add(Dense(1, kernel_initializer = \"uniform\",activation = \"sigmoid\"))  ## Output Layer"
      ]
    },
    {
      "cell_type": "code",
      "execution_count": null,
      "id": "4b0968db",
      "metadata": {
        "id": "4b0968db"
      },
      "outputs": [],
      "source": [
        "classifier.compile(optimizer= \"adam\",loss = \"binary_crossentropy\",metrics = [\"accuracy\"])"
      ]
    },
    {
      "cell_type": "code",
      "execution_count": null,
      "id": "e252fbcb",
      "metadata": {
        "colab": {
          "base_uri": "https://localhost:8080/"
        },
        "id": "e252fbcb",
        "outputId": "eefa8c31-23ec-4a2e-91f8-26bb5f701805"
      },
      "outputs": [
        {
          "output_type": "stream",
          "name": "stdout",
          "text": [
            "Model: \"sequential\"\n",
            "_________________________________________________________________\n",
            " Layer (type)                Output Shape              Param #   \n",
            "=================================================================\n",
            " dense (Dense)               (None, 18)                342       \n",
            "                                                                 \n",
            " dense_1 (Dense)             (None, 9)                 171       \n",
            "                                                                 \n",
            " dense_2 (Dense)             (None, 1)                 10        \n",
            "                                                                 \n",
            "=================================================================\n",
            "Total params: 523\n",
            "Trainable params: 523\n",
            "Non-trainable params: 0\n",
            "_________________________________________________________________\n"
          ]
        }
      ],
      "source": [
        "classifier.summary()"
      ]
    },
    {
      "cell_type": "code",
      "execution_count": null,
      "id": "0b55b144",
      "metadata": {
        "colab": {
          "base_uri": "https://localhost:8080/"
        },
        "id": "0b55b144",
        "outputId": "4b4cc9ca-b8d3-42a4-e60c-36609265b917"
      },
      "outputs": [
        {
          "output_type": "stream",
          "name": "stdout",
          "text": [
            "Epoch 1/50\n",
            "352/352 [==============================] - 2s 2ms/step - loss: 0.4749 - accuracy: 0.7636\n",
            "Epoch 2/50\n",
            "352/352 [==============================] - 1s 2ms/step - loss: 0.3196 - accuracy: 0.8246\n",
            "Epoch 3/50\n",
            "352/352 [==============================] - 1s 3ms/step - loss: 0.2813 - accuracy: 0.9084\n",
            "Epoch 4/50\n",
            "352/352 [==============================] - 1s 2ms/step - loss: 0.2591 - accuracy: 0.9264\n",
            "Epoch 5/50\n",
            "352/352 [==============================] - 1s 2ms/step - loss: 0.2227 - accuracy: 0.9363\n",
            "Epoch 6/50\n",
            "352/352 [==============================] - 1s 2ms/step - loss: 0.1989 - accuracy: 0.9389\n",
            "Epoch 7/50\n",
            "352/352 [==============================] - 1s 2ms/step - loss: 0.1869 - accuracy: 0.9435\n",
            "Epoch 8/50\n",
            "352/352 [==============================] - 1s 2ms/step - loss: 0.1790 - accuracy: 0.9455\n",
            "Epoch 9/50\n",
            "352/352 [==============================] - 1s 2ms/step - loss: 0.1744 - accuracy: 0.9489\n",
            "Epoch 10/50\n",
            "352/352 [==============================] - 1s 2ms/step - loss: 0.1706 - accuracy: 0.9511\n",
            "Epoch 11/50\n",
            "352/352 [==============================] - 1s 2ms/step - loss: 0.1677 - accuracy: 0.9515\n",
            "Epoch 12/50\n",
            "352/352 [==============================] - 1s 2ms/step - loss: 0.1658 - accuracy: 0.9520\n",
            "Epoch 13/50\n",
            "352/352 [==============================] - 1s 2ms/step - loss: 0.1640 - accuracy: 0.9527\n",
            "Epoch 14/50\n",
            "352/352 [==============================] - 1s 2ms/step - loss: 0.1622 - accuracy: 0.9530\n",
            "Epoch 15/50\n",
            "352/352 [==============================] - 1s 2ms/step - loss: 0.1598 - accuracy: 0.9538\n",
            "Epoch 16/50\n",
            "352/352 [==============================] - 1s 2ms/step - loss: 0.1583 - accuracy: 0.9534\n",
            "Epoch 17/50\n",
            "352/352 [==============================] - 1s 2ms/step - loss: 0.1563 - accuracy: 0.9540\n",
            "Epoch 18/50\n",
            "352/352 [==============================] - 1s 2ms/step - loss: 0.1549 - accuracy: 0.9554\n",
            "Epoch 19/50\n",
            "352/352 [==============================] - 1s 2ms/step - loss: 0.1532 - accuracy: 0.9548\n",
            "Epoch 20/50\n",
            "352/352 [==============================] - 1s 2ms/step - loss: 0.1517 - accuracy: 0.9543\n",
            "Epoch 21/50\n",
            "352/352 [==============================] - 1s 2ms/step - loss: 0.1471 - accuracy: 0.9572\n",
            "Epoch 22/50\n",
            "352/352 [==============================] - 1s 2ms/step - loss: 0.1416 - accuracy: 0.9579\n",
            "Epoch 23/50\n",
            "352/352 [==============================] - 1s 2ms/step - loss: 0.1369 - accuracy: 0.9603\n",
            "Epoch 24/50\n",
            "352/352 [==============================] - 1s 2ms/step - loss: 0.1324 - accuracy: 0.9620\n",
            "Epoch 25/50\n",
            "352/352 [==============================] - 1s 2ms/step - loss: 0.1291 - accuracy: 0.9618\n",
            "Epoch 26/50\n",
            "352/352 [==============================] - 1s 2ms/step - loss: 0.1259 - accuracy: 0.9642\n",
            "Epoch 27/50\n",
            "352/352 [==============================] - 1s 2ms/step - loss: 0.1232 - accuracy: 0.9642\n",
            "Epoch 28/50\n",
            "352/352 [==============================] - 1s 2ms/step - loss: 0.1207 - accuracy: 0.9653\n",
            "Epoch 29/50\n",
            "352/352 [==============================] - 1s 2ms/step - loss: 0.1190 - accuracy: 0.9664\n",
            "Epoch 30/50\n",
            "352/352 [==============================] - 1s 2ms/step - loss: 0.1170 - accuracy: 0.9660\n",
            "Epoch 31/50\n",
            "352/352 [==============================] - 1s 3ms/step - loss: 0.1152 - accuracy: 0.9671\n",
            "Epoch 32/50\n",
            "352/352 [==============================] - 1s 2ms/step - loss: 0.1138 - accuracy: 0.9676\n",
            "Epoch 33/50\n",
            "352/352 [==============================] - 1s 2ms/step - loss: 0.1127 - accuracy: 0.9678\n",
            "Epoch 34/50\n",
            "352/352 [==============================] - 1s 3ms/step - loss: 0.1111 - accuracy: 0.9676\n",
            "Epoch 35/50\n",
            "352/352 [==============================] - 1s 3ms/step - loss: 0.1102 - accuracy: 0.9684\n",
            "Epoch 36/50\n",
            "352/352 [==============================] - 1s 2ms/step - loss: 0.1093 - accuracy: 0.9678\n",
            "Epoch 37/50\n",
            "352/352 [==============================] - 1s 2ms/step - loss: 0.1085 - accuracy: 0.9684\n",
            "Epoch 38/50\n",
            "352/352 [==============================] - 1s 3ms/step - loss: 0.1076 - accuracy: 0.9695\n",
            "Epoch 39/50\n",
            "352/352 [==============================] - 1s 2ms/step - loss: 0.1071 - accuracy: 0.9700\n",
            "Epoch 40/50\n",
            "352/352 [==============================] - 1s 2ms/step - loss: 0.1053 - accuracy: 0.9686\n",
            "Epoch 41/50\n",
            "352/352 [==============================] - 1s 2ms/step - loss: 0.1049 - accuracy: 0.9700\n",
            "Epoch 42/50\n",
            "352/352 [==============================] - 1s 3ms/step - loss: 0.1045 - accuracy: 0.9695\n",
            "Epoch 43/50\n",
            "352/352 [==============================] - 1s 3ms/step - loss: 0.1043 - accuracy: 0.9692\n",
            "Epoch 44/50\n",
            "352/352 [==============================] - 1s 3ms/step - loss: 0.1032 - accuracy: 0.9697\n",
            "Epoch 45/50\n",
            "352/352 [==============================] - 1s 3ms/step - loss: 0.1035 - accuracy: 0.9693\n",
            "Epoch 46/50\n",
            "352/352 [==============================] - 1s 3ms/step - loss: 0.1020 - accuracy: 0.9700\n",
            "Epoch 47/50\n",
            "352/352 [==============================] - 1s 2ms/step - loss: 0.1007 - accuracy: 0.9698\n",
            "Epoch 48/50\n",
            "352/352 [==============================] - 1s 2ms/step - loss: 0.1006 - accuracy: 0.9708\n",
            "Epoch 49/50\n",
            "352/352 [==============================] - 1s 2ms/step - loss: 0.1003 - accuracy: 0.9699\n",
            "Epoch 50/50\n",
            "352/352 [==============================] - 1s 2ms/step - loss: 0.1000 - accuracy: 0.9716\n"
          ]
        },
        {
          "output_type": "execute_result",
          "data": {
            "text/plain": [
              "<keras.callbacks.History at 0x7f8fe009af10>"
            ]
          },
          "metadata": {},
          "execution_count": 29
        }
      ],
      "source": [
        "classifier.fit(X_train, y_train, batch_size = 32, epochs = 50)"
      ]
    },
    {
      "cell_type": "code",
      "execution_count": null,
      "id": "b13a99b0",
      "metadata": {
        "colab": {
          "base_uri": "https://localhost:8080/"
        },
        "id": "b13a99b0",
        "outputId": "fc64daa7-6761-44cf-c1b2-24e49873160d"
      },
      "outputs": [
        {
          "output_type": "stream",
          "name": "stdout",
          "text": [
            "118/118 [==============================] - 0s 1ms/step\n"
          ]
        }
      ],
      "source": [
        "y_pred = classifier.predict(X_test)"
      ]
    },
    {
      "cell_type": "code",
      "execution_count": null,
      "id": "ab5e04ee",
      "metadata": {
        "id": "ab5e04ee",
        "outputId": "0f78e833-bf7e-47dd-a5e7-d67e9765f150",
        "colab": {
          "base_uri": "https://localhost:8080/"
        }
      },
      "outputs": [
        {
          "output_type": "execute_result",
          "data": {
            "text/plain": [
              "array([[9.9452150e-01],\n",
              "       [6.0957735e-03],\n",
              "       [9.2307669e-01],\n",
              "       [9.9065131e-01],\n",
              "       [2.2380702e-02],\n",
              "       [1.7193137e-02],\n",
              "       [8.5896961e-03],\n",
              "       [6.1756838e-04],\n",
              "       [4.7616951e-02],\n",
              "       [2.5015194e-03]], dtype=float32)"
            ]
          },
          "metadata": {},
          "execution_count": 31
        }
      ],
      "source": [
        "y_pred[:10]"
      ]
    },
    {
      "cell_type": "code",
      "execution_count": null,
      "id": "6d72a737",
      "metadata": {
        "id": "6d72a737"
      },
      "outputs": [],
      "source": [
        "y_pred = np.round(y_pred)"
      ]
    },
    {
      "cell_type": "code",
      "execution_count": null,
      "id": "cc9d5f80",
      "metadata": {
        "id": "cc9d5f80",
        "outputId": "88001e5c-5d13-4395-cfbd-8d3b2d6116fc"
      },
      "outputs": [
        {
          "data": {
            "text/plain": [
              "array([[0.],\n",
              "       [0.],\n",
              "       [0.],\n",
              "       [0.],\n",
              "       [0.],\n",
              "       [0.],\n",
              "       [0.],\n",
              "       [1.],\n",
              "       [1.],\n",
              "       [0.]], dtype=float32)"
            ]
          },
          "execution_count": 108,
          "metadata": {},
          "output_type": "execute_result"
        }
      ],
      "source": [
        "y_pred[:10]"
      ]
    },
    {
      "cell_type": "code",
      "execution_count": null,
      "id": "b92c8924",
      "metadata": {
        "colab": {
          "base_uri": "https://localhost:8080/"
        },
        "id": "b92c8924",
        "outputId": "0be148cf-8b93-4cf1-82dd-0e5952cec5e5"
      },
      "outputs": [
        {
          "output_type": "execute_result",
          "data": {
            "text/plain": [
              "array([[2788,  120],\n",
              "       [  83,  759]])"
            ]
          },
          "metadata": {},
          "execution_count": 31
        }
      ],
      "source": [
        "from sklearn.metrics import confusion_matrix, classification_report\n",
        "cm = confusion_matrix(y_test, y_pred)\n",
        "cm\n"
      ]
    },
    {
      "cell_type": "code",
      "execution_count": null,
      "id": "5ab284c3",
      "metadata": {
        "colab": {
          "base_uri": "https://localhost:8080/"
        },
        "id": "5ab284c3",
        "outputId": "0ba04915-0a06-4b92-92cb-981bcb9c2a6d"
      },
      "outputs": [
        {
          "output_type": "stream",
          "name": "stdout",
          "text": [
            "              precision    recall  f1-score   support\n",
            "\n",
            "           0       0.97      0.96      0.96      2908\n",
            "           1       0.86      0.90      0.88       842\n",
            "\n",
            "    accuracy                           0.95      3750\n",
            "   macro avg       0.92      0.93      0.92      3750\n",
            "weighted avg       0.95      0.95      0.95      3750\n",
            "\n"
          ]
        }
      ],
      "source": [
        "## Classification Report\n",
        "print(classification_report(y_test, y_pred))\n"
      ]
    },
    {
      "cell_type": "markdown",
      "id": "478422ee",
      "metadata": {
        "id": "478422ee"
      },
      "source": [
        "## Using validation_split"
      ]
    },
    {
      "cell_type": "code",
      "execution_count": null,
      "id": "9b696577",
      "metadata": {
        "colab": {
          "base_uri": "https://localhost:8080/"
        },
        "id": "9b696577",
        "outputId": "8b5c041c-94a7-4630-c908-a85c65ced0ae"
      },
      "outputs": [
        {
          "output_type": "stream",
          "name": "stdout",
          "text": [
            "Epoch 1/50\n",
            "563/563 [==============================] - 2s 3ms/step - loss: 0.1927 - accuracy: 0.9435 - val_loss: 0.1918 - val_accuracy: 0.9404\n",
            "Epoch 2/50\n",
            "563/563 [==============================] - 2s 3ms/step - loss: 0.1920 - accuracy: 0.9440 - val_loss: 0.1941 - val_accuracy: 0.9387\n",
            "Epoch 3/50\n",
            "563/563 [==============================] - 1s 3ms/step - loss: 0.1911 - accuracy: 0.9441 - val_loss: 0.1948 - val_accuracy: 0.9369\n",
            "Epoch 4/50\n",
            "563/563 [==============================] - 1s 2ms/step - loss: 0.1908 - accuracy: 0.9448 - val_loss: 0.1935 - val_accuracy: 0.9418\n",
            "Epoch 5/50\n",
            "563/563 [==============================] - 1s 2ms/step - loss: 0.1905 - accuracy: 0.9443 - val_loss: 0.1935 - val_accuracy: 0.9418\n",
            "Epoch 6/50\n",
            "563/563 [==============================] - 1s 2ms/step - loss: 0.1901 - accuracy: 0.9448 - val_loss: 0.1941 - val_accuracy: 0.9422\n",
            "Epoch 7/50\n",
            "563/563 [==============================] - 1s 2ms/step - loss: 0.1902 - accuracy: 0.9448 - val_loss: 0.1959 - val_accuracy: 0.9373\n",
            "Epoch 8/50\n",
            "563/563 [==============================] - 1s 3ms/step - loss: 0.1900 - accuracy: 0.9447 - val_loss: 0.1939 - val_accuracy: 0.9378\n",
            "Epoch 9/50\n",
            "563/563 [==============================] - 1s 2ms/step - loss: 0.1895 - accuracy: 0.9449 - val_loss: 0.1936 - val_accuracy: 0.9382\n",
            "Epoch 10/50\n",
            "563/563 [==============================] - 1s 2ms/step - loss: 0.1894 - accuracy: 0.9431 - val_loss: 0.1956 - val_accuracy: 0.9378\n",
            "Epoch 11/50\n",
            "563/563 [==============================] - 1s 2ms/step - loss: 0.1893 - accuracy: 0.9455 - val_loss: 0.1979 - val_accuracy: 0.9351\n",
            "Epoch 12/50\n",
            "563/563 [==============================] - 1s 2ms/step - loss: 0.1887 - accuracy: 0.9441 - val_loss: 0.1978 - val_accuracy: 0.9338\n",
            "Epoch 13/50\n",
            "563/563 [==============================] - 1s 3ms/step - loss: 0.1888 - accuracy: 0.9443 - val_loss: 0.1954 - val_accuracy: 0.9404\n",
            "Epoch 14/50\n",
            "563/563 [==============================] - 1s 2ms/step - loss: 0.1887 - accuracy: 0.9463 - val_loss: 0.1960 - val_accuracy: 0.9364\n",
            "Epoch 15/50\n",
            "563/563 [==============================] - 1s 2ms/step - loss: 0.1900 - accuracy: 0.9435 - val_loss: 0.1952 - val_accuracy: 0.9369\n",
            "Epoch 16/50\n",
            "563/563 [==============================] - 1s 3ms/step - loss: 0.1886 - accuracy: 0.9445 - val_loss: 0.1960 - val_accuracy: 0.9409\n",
            "Epoch 17/50\n",
            "563/563 [==============================] - 2s 3ms/step - loss: 0.1887 - accuracy: 0.9449 - val_loss: 0.1958 - val_accuracy: 0.9418\n",
            "Epoch 18/50\n",
            "563/563 [==============================] - 1s 3ms/step - loss: 0.1882 - accuracy: 0.9458 - val_loss: 0.1978 - val_accuracy: 0.9382\n",
            "Epoch 19/50\n",
            "563/563 [==============================] - 1s 3ms/step - loss: 0.1880 - accuracy: 0.9455 - val_loss: 0.1959 - val_accuracy: 0.9409\n",
            "Epoch 20/50\n",
            "563/563 [==============================] - 1s 3ms/step - loss: 0.1882 - accuracy: 0.9462 - val_loss: 0.1957 - val_accuracy: 0.9382\n",
            "Epoch 21/50\n",
            "563/563 [==============================] - 1s 2ms/step - loss: 0.1877 - accuracy: 0.9454 - val_loss: 0.1969 - val_accuracy: 0.9404\n",
            "Epoch 22/50\n",
            "563/563 [==============================] - 1s 3ms/step - loss: 0.1883 - accuracy: 0.9463 - val_loss: 0.1968 - val_accuracy: 0.9356\n",
            "Epoch 23/50\n",
            "563/563 [==============================] - 1s 2ms/step - loss: 0.1884 - accuracy: 0.9449 - val_loss: 0.1960 - val_accuracy: 0.9387\n",
            "Epoch 24/50\n",
            "563/563 [==============================] - 1s 2ms/step - loss: 0.1879 - accuracy: 0.9454 - val_loss: 0.1958 - val_accuracy: 0.9378\n",
            "Epoch 25/50\n",
            "563/563 [==============================] - 1s 2ms/step - loss: 0.1876 - accuracy: 0.9454 - val_loss: 0.1961 - val_accuracy: 0.9382\n",
            "Epoch 26/50\n",
            "563/563 [==============================] - 1s 2ms/step - loss: 0.1879 - accuracy: 0.9457 - val_loss: 0.1965 - val_accuracy: 0.9400\n",
            "Epoch 27/50\n",
            "563/563 [==============================] - 1s 3ms/step - loss: 0.1874 - accuracy: 0.9447 - val_loss: 0.1966 - val_accuracy: 0.9378\n",
            "Epoch 28/50\n",
            "563/563 [==============================] - 1s 2ms/step - loss: 0.1876 - accuracy: 0.9451 - val_loss: 0.1981 - val_accuracy: 0.9382\n",
            "Epoch 29/50\n",
            "563/563 [==============================] - 2s 4ms/step - loss: 0.1873 - accuracy: 0.9447 - val_loss: 0.1983 - val_accuracy: 0.9387\n",
            "Epoch 30/50\n",
            "563/563 [==============================] - 2s 4ms/step - loss: 0.1874 - accuracy: 0.9445 - val_loss: 0.1973 - val_accuracy: 0.9378\n",
            "Epoch 31/50\n",
            "563/563 [==============================] - 3s 5ms/step - loss: 0.1871 - accuracy: 0.9463 - val_loss: 0.1968 - val_accuracy: 0.9364\n",
            "Epoch 32/50\n",
            "563/563 [==============================] - 2s 3ms/step - loss: 0.1868 - accuracy: 0.9450 - val_loss: 0.1980 - val_accuracy: 0.9387\n",
            "Epoch 33/50\n",
            "563/563 [==============================] - 1s 2ms/step - loss: 0.1870 - accuracy: 0.9437 - val_loss: 0.1972 - val_accuracy: 0.9400\n",
            "Epoch 34/50\n",
            "563/563 [==============================] - 1s 3ms/step - loss: 0.1870 - accuracy: 0.9462 - val_loss: 0.1987 - val_accuracy: 0.9338\n",
            "Epoch 35/50\n",
            "563/563 [==============================] - 1s 2ms/step - loss: 0.1863 - accuracy: 0.9457 - val_loss: 0.1978 - val_accuracy: 0.9378\n",
            "Epoch 36/50\n",
            "563/563 [==============================] - 1s 3ms/step - loss: 0.1864 - accuracy: 0.9448 - val_loss: 0.1979 - val_accuracy: 0.9400\n",
            "Epoch 37/50\n",
            "563/563 [==============================] - 1s 2ms/step - loss: 0.1866 - accuracy: 0.9469 - val_loss: 0.1981 - val_accuracy: 0.9369\n",
            "Epoch 38/50\n",
            "563/563 [==============================] - 2s 3ms/step - loss: 0.1856 - accuracy: 0.9462 - val_loss: 0.1971 - val_accuracy: 0.9413\n",
            "Epoch 39/50\n",
            "563/563 [==============================] - 1s 2ms/step - loss: 0.1840 - accuracy: 0.9459 - val_loss: 0.1994 - val_accuracy: 0.9364\n",
            "Epoch 40/50\n",
            "563/563 [==============================] - 1s 3ms/step - loss: 0.1836 - accuracy: 0.9468 - val_loss: 0.1956 - val_accuracy: 0.9418\n",
            "Epoch 41/50\n",
            "563/563 [==============================] - 1s 3ms/step - loss: 0.1816 - accuracy: 0.9485 - val_loss: 0.1932 - val_accuracy: 0.9409\n",
            "Epoch 42/50\n",
            "563/563 [==============================] - 1s 3ms/step - loss: 0.1804 - accuracy: 0.9490 - val_loss: 0.1913 - val_accuracy: 0.9404\n",
            "Epoch 43/50\n",
            "563/563 [==============================] - 1s 2ms/step - loss: 0.1792 - accuracy: 0.9471 - val_loss: 0.1907 - val_accuracy: 0.9396\n",
            "Epoch 44/50\n",
            "563/563 [==============================] - 1s 2ms/step - loss: 0.1773 - accuracy: 0.9499 - val_loss: 0.1914 - val_accuracy: 0.9400\n",
            "Epoch 45/50\n",
            "563/563 [==============================] - 2s 3ms/step - loss: 0.1753 - accuracy: 0.9503 - val_loss: 0.1892 - val_accuracy: 0.9404\n",
            "Epoch 46/50\n",
            "563/563 [==============================] - 1s 3ms/step - loss: 0.1743 - accuracy: 0.9499 - val_loss: 0.1856 - val_accuracy: 0.9431\n",
            "Epoch 47/50\n",
            "563/563 [==============================] - 1s 3ms/step - loss: 0.1718 - accuracy: 0.9499 - val_loss: 0.1827 - val_accuracy: 0.9404\n",
            "Epoch 48/50\n",
            "563/563 [==============================] - 1s 2ms/step - loss: 0.1691 - accuracy: 0.9511 - val_loss: 0.1822 - val_accuracy: 0.9422\n",
            "Epoch 49/50\n",
            "563/563 [==============================] - 1s 2ms/step - loss: 0.1676 - accuracy: 0.9511 - val_loss: 0.1808 - val_accuracy: 0.9418\n",
            "Epoch 50/50\n",
            "563/563 [==============================] - 1s 2ms/step - loss: 0.1654 - accuracy: 0.9527 - val_loss: 0.1781 - val_accuracy: 0.9422\n"
          ]
        },
        {
          "output_type": "execute_result",
          "data": {
            "text/plain": [
              "<keras.callbacks.History at 0x7fa9f8f12650>"
            ]
          },
          "metadata": {},
          "execution_count": 33
        }
      ],
      "source": [
        "#training data is splitting in 80 and 20%\n",
        "classifier.fit(X_train, y_train, batch_size = 16, epochs = 50, validation_split=0.2)"
      ]
    },
    {
      "cell_type": "code",
      "execution_count": null,
      "id": "3f5fc830",
      "metadata": {
        "id": "3f5fc830",
        "outputId": "ebb85df9-a7ad-4581-9c26-144921beeadf"
      },
      "outputs": [
        {
          "name": "stdout",
          "output_type": "stream",
          "text": [
            "118/118 [==============================] - 0s 461us/step - loss: 0.1201 - accuracy: 0.9653\n"
          ]
        },
        {
          "data": {
            "text/plain": [
              "[0.12013793736696243, 0.9653333425521851]"
            ]
          },
          "execution_count": 112,
          "metadata": {},
          "output_type": "execute_result"
        }
      ],
      "source": [
        "classifier.evaluate(X_test, y_test)"
      ]
    },
    {
      "cell_type": "code",
      "execution_count": null,
      "id": "5cb20791",
      "metadata": {
        "colab": {
          "base_uri": "https://localhost:8080/"
        },
        "id": "5cb20791",
        "outputId": "d4432ebd-6c3e-4d78-99d9-ad1b1c51805f"
      },
      "outputs": [
        {
          "output_type": "stream",
          "name": "stdout",
          "text": [
            "118/118 [==============================] - 0s 1ms/step\n",
            "[[2808  100]\n",
            " [  84  758]]\n",
            "              precision    recall  f1-score   support\n",
            "\n",
            "           0       0.97      0.97      0.97      2908\n",
            "           1       0.88      0.90      0.89       842\n",
            "\n",
            "    accuracy                           0.95      3750\n",
            "   macro avg       0.93      0.93      0.93      3750\n",
            "weighted avg       0.95      0.95      0.95      3750\n",
            "\n"
          ]
        }
      ],
      "source": [
        "y_pred = classifier.predict(X_test)\n",
        "y_pred = np.round(y_pred)\n",
        "cm = confusion_matrix(y_test, y_pred)\n",
        "print(cm)\n",
        "## Classification Report\n",
        "print(classification_report(y_test, y_pred))"
      ]
    },
    {
      "cell_type": "markdown",
      "id": "049d565f",
      "metadata": {
        "id": "049d565f"
      },
      "source": [
        "## Using callbacks"
      ]
    },
    {
      "cell_type": "code",
      "execution_count": null,
      "id": "6827b8de",
      "metadata": {
        "id": "6827b8de"
      },
      "outputs": [],
      "source": [
        "## function to plot the history of callbacks.\n",
        "def plot_loss(loss,val_loss):\n",
        "  plt.figure(figsize=(15,8))\n",
        "  plt.plot(loss)\n",
        "  plt.plot(val_loss)\n",
        "  plt.title('Model loss')\n",
        "  plt.ylabel('Loss')\n",
        "  plt.xlabel('Epoch')\n",
        "  plt.legend(['Train', 'Test'], loc='upper right')\n",
        "  plt.show()\n"
      ]
    },
    {
      "cell_type": "code",
      "execution_count": null,
      "id": "6bcee2f5",
      "metadata": {
        "id": "6bcee2f5",
        "outputId": "80bc49bd-5815-4100-baa0-92823351ca69",
        "colab": {
          "base_uri": "https://localhost:8080/"
        }
      },
      "outputs": [
        {
          "output_type": "stream",
          "name": "stdout",
          "text": [
            "Epoch 1/100\n",
            "704/704 [==============================] - 2s 3ms/step - loss: 0.0766 - accuracy: 0.9747 - val_loss: 0.1526 - val_accuracy: 0.9603\n",
            "Epoch 2/100\n",
            "704/704 [==============================] - 2s 2ms/step - loss: 0.0767 - accuracy: 0.9745 - val_loss: 0.1578 - val_accuracy: 0.9616\n",
            "Epoch 3/100\n",
            "704/704 [==============================] - 2s 3ms/step - loss: 0.0762 - accuracy: 0.9748 - val_loss: 0.1500 - val_accuracy: 0.9624\n",
            "Epoch 4/100\n",
            "704/704 [==============================] - 2s 3ms/step - loss: 0.0779 - accuracy: 0.9742 - val_loss: 0.1511 - val_accuracy: 0.9613\n",
            "Epoch 5/100\n",
            "704/704 [==============================] - 2s 3ms/step - loss: 0.0773 - accuracy: 0.9749 - val_loss: 0.1536 - val_accuracy: 0.9605\n",
            "Epoch 6/100\n",
            "704/704 [==============================] - 2s 3ms/step - loss: 0.0767 - accuracy: 0.9747 - val_loss: 0.1532 - val_accuracy: 0.9605\n",
            "Epoch 7/100\n",
            "704/704 [==============================] - 2s 3ms/step - loss: 0.0760 - accuracy: 0.9752 - val_loss: 0.1524 - val_accuracy: 0.9605\n",
            "Epoch 8/100\n",
            "704/704 [==============================] - 2s 3ms/step - loss: 0.0767 - accuracy: 0.9745 - val_loss: 0.1542 - val_accuracy: 0.9605\n",
            "Epoch 9/100\n",
            "704/704 [==============================] - 2s 3ms/step - loss: 0.0759 - accuracy: 0.9756 - val_loss: 0.1538 - val_accuracy: 0.9605\n",
            "Epoch 10/100\n",
            "704/704 [==============================] - 2s 3ms/step - loss: 0.0762 - accuracy: 0.9738 - val_loss: 0.1624 - val_accuracy: 0.9592\n",
            "Epoch 11/100\n",
            "704/704 [==============================] - 2s 3ms/step - loss: 0.0760 - accuracy: 0.9746 - val_loss: 0.1568 - val_accuracy: 0.9624\n",
            "Epoch 12/100\n",
            "704/704 [==============================] - 2s 3ms/step - loss: 0.0757 - accuracy: 0.9746 - val_loss: 0.1536 - val_accuracy: 0.9600\n",
            "Epoch 13/100\n",
            "704/704 [==============================] - 2s 3ms/step - loss: 0.0754 - accuracy: 0.9755 - val_loss: 0.1555 - val_accuracy: 0.9613\n",
            "Epoch 14/100\n",
            "704/704 [==============================] - 2s 3ms/step - loss: 0.0760 - accuracy: 0.9751 - val_loss: 0.1610 - val_accuracy: 0.9619\n",
            "Epoch 15/100\n",
            "704/704 [==============================] - 2s 3ms/step - loss: 0.0750 - accuracy: 0.9756 - val_loss: 0.1610 - val_accuracy: 0.9603\n",
            "Epoch 16/100\n",
            "704/704 [==============================] - 2s 3ms/step - loss: 0.0762 - accuracy: 0.9742 - val_loss: 0.1591 - val_accuracy: 0.9613\n",
            "Epoch 17/100\n",
            "704/704 [==============================] - 2s 3ms/step - loss: 0.0771 - accuracy: 0.9746 - val_loss: 0.1584 - val_accuracy: 0.9624\n",
            "Epoch 18/100\n",
            "704/704 [==============================] - 2s 3ms/step - loss: 0.0752 - accuracy: 0.9747 - val_loss: 0.1508 - val_accuracy: 0.9640\n",
            "Epoch 19/100\n",
            "704/704 [==============================] - 2s 3ms/step - loss: 0.0752 - accuracy: 0.9750 - val_loss: 0.1583 - val_accuracy: 0.9616\n",
            "Epoch 20/100\n",
            "704/704 [==============================] - 2s 3ms/step - loss: 0.0752 - accuracy: 0.9745 - val_loss: 0.1534 - val_accuracy: 0.9608\n",
            "Epoch 21/100\n",
            "704/704 [==============================] - 2s 3ms/step - loss: 0.0748 - accuracy: 0.9741 - val_loss: 0.1693 - val_accuracy: 0.9632\n",
            "Epoch 22/100\n",
            "704/704 [==============================] - 2s 3ms/step - loss: 0.0760 - accuracy: 0.9755 - val_loss: 0.1600 - val_accuracy: 0.9584\n",
            "Epoch 23/100\n",
            "704/704 [==============================] - 2s 3ms/step - loss: 0.0760 - accuracy: 0.9748 - val_loss: 0.1598 - val_accuracy: 0.9637\n",
            "Epoch 24/100\n",
            "704/704 [==============================] - 2s 3ms/step - loss: 0.0745 - accuracy: 0.9760 - val_loss: 0.1642 - val_accuracy: 0.9624\n",
            "Epoch 25/100\n",
            "704/704 [==============================] - 2s 3ms/step - loss: 0.0757 - accuracy: 0.9748 - val_loss: 0.1565 - val_accuracy: 0.9619\n",
            "Epoch 26/100\n",
            "704/704 [==============================] - 2s 3ms/step - loss: 0.0757 - accuracy: 0.9748 - val_loss: 0.1562 - val_accuracy: 0.9627\n",
            "Epoch 27/100\n",
            "704/704 [==============================] - 2s 3ms/step - loss: 0.0754 - accuracy: 0.9753 - val_loss: 0.1595 - val_accuracy: 0.9613\n",
            "Epoch 28/100\n",
            "704/704 [==============================] - 2s 3ms/step - loss: 0.0752 - accuracy: 0.9754 - val_loss: 0.1551 - val_accuracy: 0.9640\n",
            "Epoch 29/100\n",
            "704/704 [==============================] - 2s 3ms/step - loss: 0.0752 - accuracy: 0.9745 - val_loss: 0.1626 - val_accuracy: 0.9611\n",
            "Epoch 30/100\n",
            "704/704 [==============================] - 2s 3ms/step - loss: 0.0746 - accuracy: 0.9756 - val_loss: 0.1563 - val_accuracy: 0.9597\n",
            "Epoch 31/100\n",
            "704/704 [==============================] - 2s 3ms/step - loss: 0.0742 - accuracy: 0.9763 - val_loss: 0.1604 - val_accuracy: 0.9627\n",
            "Epoch 32/100\n",
            "704/704 [==============================] - 2s 3ms/step - loss: 0.0753 - accuracy: 0.9751 - val_loss: 0.1644 - val_accuracy: 0.9584\n",
            "Epoch 33/100\n",
            "704/704 [==============================] - 2s 3ms/step - loss: 0.0752 - accuracy: 0.9755 - val_loss: 0.1520 - val_accuracy: 0.9621\n",
            "Epoch 34/100\n",
            "704/704 [==============================] - 2s 3ms/step - loss: 0.0749 - accuracy: 0.9756 - val_loss: 0.1578 - val_accuracy: 0.9616\n",
            "Epoch 35/100\n",
            "704/704 [==============================] - 2s 3ms/step - loss: 0.0737 - accuracy: 0.9754 - val_loss: 0.1564 - val_accuracy: 0.9629\n",
            "Epoch 36/100\n",
            "704/704 [==============================] - 2s 3ms/step - loss: 0.0749 - accuracy: 0.9755 - val_loss: 0.1582 - val_accuracy: 0.9611\n",
            "Epoch 37/100\n",
            "704/704 [==============================] - 2s 3ms/step - loss: 0.0737 - accuracy: 0.9757 - val_loss: 0.1610 - val_accuracy: 0.9611\n",
            "Epoch 38/100\n",
            "704/704 [==============================] - 2s 3ms/step - loss: 0.0754 - accuracy: 0.9755 - val_loss: 0.1541 - val_accuracy: 0.9627\n",
            "Epoch 39/100\n",
            "704/704 [==============================] - 2s 3ms/step - loss: 0.0750 - accuracy: 0.9746 - val_loss: 0.1650 - val_accuracy: 0.9605\n",
            "Epoch 40/100\n",
            "704/704 [==============================] - 2s 3ms/step - loss: 0.0740 - accuracy: 0.9760 - val_loss: 0.1616 - val_accuracy: 0.9624\n",
            "Epoch 41/100\n",
            "704/704 [==============================] - 2s 3ms/step - loss: 0.0747 - accuracy: 0.9748 - val_loss: 0.1619 - val_accuracy: 0.9608\n",
            "Epoch 42/100\n",
            "704/704 [==============================] - 2s 3ms/step - loss: 0.0741 - accuracy: 0.9754 - val_loss: 0.1662 - val_accuracy: 0.9637\n",
            "Epoch 43/100\n",
            "704/704 [==============================] - 2s 3ms/step - loss: 0.0738 - accuracy: 0.9757 - val_loss: 0.1640 - val_accuracy: 0.9595\n",
            "Epoch 44/100\n",
            "704/704 [==============================] - 2s 3ms/step - loss: 0.0750 - accuracy: 0.9755 - val_loss: 0.1583 - val_accuracy: 0.9611\n",
            "Epoch 45/100\n",
            "704/704 [==============================] - 2s 3ms/step - loss: 0.0733 - accuracy: 0.9764 - val_loss: 0.1554 - val_accuracy: 0.9637\n",
            "Epoch 46/100\n",
            "704/704 [==============================] - 2s 3ms/step - loss: 0.0729 - accuracy: 0.9764 - val_loss: 0.1615 - val_accuracy: 0.9621\n",
            "Epoch 47/100\n",
            "704/704 [==============================] - 2s 3ms/step - loss: 0.0730 - accuracy: 0.9759 - val_loss: 0.1613 - val_accuracy: 0.9627\n",
            "Epoch 48/100\n",
            "704/704 [==============================] - 2s 3ms/step - loss: 0.0745 - accuracy: 0.9759 - val_loss: 0.1558 - val_accuracy: 0.9629\n",
            "Epoch 49/100\n",
            "704/704 [==============================] - 2s 3ms/step - loss: 0.0737 - accuracy: 0.9763 - val_loss: 0.1599 - val_accuracy: 0.9584\n",
            "Epoch 50/100\n",
            "704/704 [==============================] - 2s 3ms/step - loss: 0.0733 - accuracy: 0.9761 - val_loss: 0.1590 - val_accuracy: 0.9629\n",
            "Epoch 51/100\n",
            "704/704 [==============================] - 2s 3ms/step - loss: 0.0738 - accuracy: 0.9756 - val_loss: 0.1557 - val_accuracy: 0.9648\n",
            "Epoch 52/100\n",
            "704/704 [==============================] - 2s 2ms/step - loss: 0.0730 - accuracy: 0.9760 - val_loss: 0.1664 - val_accuracy: 0.9627\n",
            "Epoch 53/100\n",
            "704/704 [==============================] - 2s 3ms/step - loss: 0.0734 - accuracy: 0.9755 - val_loss: 0.1635 - val_accuracy: 0.9605\n",
            "Epoch 54/100\n",
            "704/704 [==============================] - 2s 3ms/step - loss: 0.0734 - accuracy: 0.9762 - val_loss: 0.1617 - val_accuracy: 0.9632\n",
            "Epoch 55/100\n",
            "704/704 [==============================] - 2s 3ms/step - loss: 0.0729 - accuracy: 0.9763 - val_loss: 0.1642 - val_accuracy: 0.9643\n",
            "Epoch 56/100\n",
            "704/704 [==============================] - 2s 3ms/step - loss: 0.0725 - accuracy: 0.9764 - val_loss: 0.1596 - val_accuracy: 0.9629\n",
            "Epoch 57/100\n",
            "704/704 [==============================] - 2s 3ms/step - loss: 0.0723 - accuracy: 0.9767 - val_loss: 0.1673 - val_accuracy: 0.9613\n",
            "Epoch 58/100\n",
            "704/704 [==============================] - 2s 3ms/step - loss: 0.0735 - accuracy: 0.9757 - val_loss: 0.1597 - val_accuracy: 0.9643\n",
            "Epoch 59/100\n",
            "704/704 [==============================] - 2s 3ms/step - loss: 0.0717 - accuracy: 0.9764 - val_loss: 0.1569 - val_accuracy: 0.9627\n",
            "Epoch 60/100\n",
            "704/704 [==============================] - 2s 3ms/step - loss: 0.0722 - accuracy: 0.9760 - val_loss: 0.1594 - val_accuracy: 0.9627\n",
            "Epoch 61/100\n",
            "704/704 [==============================] - 2s 4ms/step - loss: 0.0729 - accuracy: 0.9765 - val_loss: 0.1610 - val_accuracy: 0.9643\n",
            "Epoch 62/100\n",
            "704/704 [==============================] - 3s 5ms/step - loss: 0.0722 - accuracy: 0.9763 - val_loss: 0.1609 - val_accuracy: 0.9619\n",
            "Epoch 63/100\n",
            "704/704 [==============================] - 2s 3ms/step - loss: 0.0728 - accuracy: 0.9761 - val_loss: 0.1640 - val_accuracy: 0.9616\n",
            "Epoch 64/100\n",
            "704/704 [==============================] - 2s 3ms/step - loss: 0.0720 - accuracy: 0.9764 - val_loss: 0.1615 - val_accuracy: 0.9608\n",
            "Epoch 65/100\n",
            "704/704 [==============================] - 2s 3ms/step - loss: 0.0718 - accuracy: 0.9761 - val_loss: 0.1643 - val_accuracy: 0.9613\n",
            "Epoch 66/100\n",
            "704/704 [==============================] - 2s 3ms/step - loss: 0.0725 - accuracy: 0.9772 - val_loss: 0.1535 - val_accuracy: 0.9648\n",
            "Epoch 67/100\n",
            "704/704 [==============================] - 2s 3ms/step - loss: 0.0714 - accuracy: 0.9767 - val_loss: 0.1609 - val_accuracy: 0.9621\n",
            "Epoch 68/100\n",
            "704/704 [==============================] - 2s 3ms/step - loss: 0.0725 - accuracy: 0.9752 - val_loss: 0.1655 - val_accuracy: 0.9616\n",
            "Epoch 69/100\n",
            "704/704 [==============================] - 2s 3ms/step - loss: 0.0722 - accuracy: 0.9757 - val_loss: 0.1608 - val_accuracy: 0.9621\n",
            "Epoch 70/100\n",
            "704/704 [==============================] - 2s 3ms/step - loss: 0.0711 - accuracy: 0.9770 - val_loss: 0.1631 - val_accuracy: 0.9635\n",
            "Epoch 71/100\n",
            "704/704 [==============================] - 2s 3ms/step - loss: 0.0720 - accuracy: 0.9763 - val_loss: 0.1684 - val_accuracy: 0.9624\n",
            "Epoch 72/100\n",
            "704/704 [==============================] - 2s 3ms/step - loss: 0.0716 - accuracy: 0.9775 - val_loss: 0.1652 - val_accuracy: 0.9640\n",
            "Epoch 73/100\n",
            "704/704 [==============================] - 2s 3ms/step - loss: 0.0717 - accuracy: 0.9762 - val_loss: 0.1583 - val_accuracy: 0.9605\n",
            "Epoch 74/100\n",
            "704/704 [==============================] - 2s 2ms/step - loss: 0.0720 - accuracy: 0.9766 - val_loss: 0.1625 - val_accuracy: 0.9608\n",
            "Epoch 75/100\n",
            "704/704 [==============================] - 2s 3ms/step - loss: 0.0705 - accuracy: 0.9769 - val_loss: 0.1590 - val_accuracy: 0.9608\n",
            "Epoch 76/100\n",
            "704/704 [==============================] - 2s 3ms/step - loss: 0.0718 - accuracy: 0.9768 - val_loss: 0.1681 - val_accuracy: 0.9605\n",
            "Epoch 77/100\n",
            "704/704 [==============================] - 2s 3ms/step - loss: 0.0713 - accuracy: 0.9768 - val_loss: 0.1694 - val_accuracy: 0.9619\n",
            "Epoch 78/100\n",
            "704/704 [==============================] - 2s 3ms/step - loss: 0.0714 - accuracy: 0.9767 - val_loss: 0.1683 - val_accuracy: 0.9624\n",
            "Epoch 79/100\n",
            "704/704 [==============================] - 2s 3ms/step - loss: 0.0717 - accuracy: 0.9757 - val_loss: 0.1638 - val_accuracy: 0.9600\n",
            "Epoch 80/100\n",
            "704/704 [==============================] - 2s 3ms/step - loss: 0.0702 - accuracy: 0.9775 - val_loss: 0.1675 - val_accuracy: 0.9632\n",
            "Epoch 81/100\n",
            "704/704 [==============================] - 2s 3ms/step - loss: 0.0708 - accuracy: 0.9763 - val_loss: 0.1638 - val_accuracy: 0.9616\n",
            "Epoch 82/100\n",
            "704/704 [==============================] - 2s 3ms/step - loss: 0.0704 - accuracy: 0.9772 - val_loss: 0.1647 - val_accuracy: 0.9624\n",
            "Epoch 83/100\n",
            "704/704 [==============================] - 2s 3ms/step - loss: 0.0704 - accuracy: 0.9769 - val_loss: 0.1617 - val_accuracy: 0.9616\n",
            "Epoch 84/100\n",
            "704/704 [==============================] - 2s 3ms/step - loss: 0.0703 - accuracy: 0.9771 - val_loss: 0.1595 - val_accuracy: 0.9621\n",
            "Epoch 85/100\n",
            "704/704 [==============================] - 2s 3ms/step - loss: 0.0703 - accuracy: 0.9768 - val_loss: 0.1672 - val_accuracy: 0.9619\n",
            "Epoch 86/100\n",
            "704/704 [==============================] - 2s 3ms/step - loss: 0.0700 - accuracy: 0.9771 - val_loss: 0.1705 - val_accuracy: 0.9616\n",
            "Epoch 87/100\n",
            "704/704 [==============================] - 2s 3ms/step - loss: 0.0709 - accuracy: 0.9757 - val_loss: 0.1640 - val_accuracy: 0.9616\n",
            "Epoch 88/100\n",
            "704/704 [==============================] - 2s 3ms/step - loss: 0.0699 - accuracy: 0.9772 - val_loss: 0.1668 - val_accuracy: 0.9629\n",
            "Epoch 89/100\n",
            "704/704 [==============================] - 2s 3ms/step - loss: 0.0701 - accuracy: 0.9765 - val_loss: 0.1670 - val_accuracy: 0.9627\n",
            "Epoch 90/100\n",
            "704/704 [==============================] - 2s 3ms/step - loss: 0.0697 - accuracy: 0.9772 - val_loss: 0.1673 - val_accuracy: 0.9624\n",
            "Epoch 91/100\n",
            "704/704 [==============================] - 2s 3ms/step - loss: 0.0694 - accuracy: 0.9768 - val_loss: 0.1711 - val_accuracy: 0.9595\n",
            "Epoch 92/100\n",
            "704/704 [==============================] - 2s 3ms/step - loss: 0.0702 - accuracy: 0.9761 - val_loss: 0.1759 - val_accuracy: 0.9608\n",
            "Epoch 93/100\n",
            "704/704 [==============================] - 2s 3ms/step - loss: 0.0696 - accuracy: 0.9777 - val_loss: 0.1717 - val_accuracy: 0.9600\n",
            "Epoch 94/100\n",
            "704/704 [==============================] - 2s 3ms/step - loss: 0.0696 - accuracy: 0.9769 - val_loss: 0.1744 - val_accuracy: 0.9595\n",
            "Epoch 95/100\n",
            "704/704 [==============================] - 2s 3ms/step - loss: 0.0693 - accuracy: 0.9769 - val_loss: 0.1744 - val_accuracy: 0.9608\n",
            "Epoch 96/100\n",
            "704/704 [==============================] - 2s 3ms/step - loss: 0.0689 - accuracy: 0.9773 - val_loss: 0.1685 - val_accuracy: 0.9611\n",
            "Epoch 97/100\n",
            "704/704 [==============================] - 2s 3ms/step - loss: 0.0700 - accuracy: 0.9765 - val_loss: 0.1808 - val_accuracy: 0.9605\n",
            "Epoch 98/100\n",
            "704/704 [==============================] - 2s 3ms/step - loss: 0.0699 - accuracy: 0.9759 - val_loss: 0.1692 - val_accuracy: 0.9613\n",
            "Epoch 99/100\n",
            "704/704 [==============================] - 2s 3ms/step - loss: 0.0694 - accuracy: 0.9770 - val_loss: 0.1710 - val_accuracy: 0.9611\n",
            "Epoch 100/100\n",
            "704/704 [==============================] - 2s 3ms/step - loss: 0.0689 - accuracy: 0.9776 - val_loss: 0.1692 - val_accuracy: 0.9611\n"
          ]
        }
      ],
      "source": [
        "h_callback = classifier.fit(X_train, y_train, batch_size = 16, epochs = 100, validation_data=(X_test, y_test))"
      ]
    },
    {
      "cell_type": "code",
      "execution_count": null,
      "id": "1cf1d101",
      "metadata": {
        "id": "1cf1d101",
        "outputId": "39c35418-341b-42a3-fe67-4dd4fa5d2dd2",
        "colab": {
          "base_uri": "https://localhost:8080/"
        }
      },
      "outputs": [
        {
          "output_type": "execute_result",
          "data": {
            "text/plain": [
              "keras.callbacks.History"
            ]
          },
          "metadata": {},
          "execution_count": 38
        }
      ],
      "source": [
        "type(h_callback)"
      ]
    },
    {
      "cell_type": "code",
      "execution_count": null,
      "id": "fdfb4c71",
      "metadata": {
        "id": "fdfb4c71",
        "outputId": "0b63d100-5a3e-415a-b34b-3ca66476bee9",
        "colab": {
          "base_uri": "https://localhost:8080/"
        }
      },
      "outputs": [
        {
          "output_type": "execute_result",
          "data": {
            "text/plain": [
              "dict_keys(['loss', 'accuracy', 'val_loss', 'val_accuracy'])"
            ]
          },
          "metadata": {},
          "execution_count": 39
        }
      ],
      "source": [
        "h_callback.history.keys()"
      ]
    },
    {
      "cell_type": "code",
      "execution_count": null,
      "id": "cd6733a6",
      "metadata": {
        "id": "cd6733a6",
        "outputId": "e0eb9cec-99dc-4bcd-f178-0d406343cefc",
        "colab": {
          "base_uri": "https://localhost:8080/",
          "height": 513
        }
      },
      "outputs": [
        {
          "output_type": "display_data",
          "data": {
            "text/plain": [
              "<Figure size 1080x576 with 1 Axes>"
            ],
            "image/png": "[encoded data removed]"
          },
          "metadata": {
            "needs_background": "light"
          }
        }
      ],
      "source": [
        "import  matplotlib.pyplot as plt\n",
        "# Plot train vs test loss during training\n",
        "plot_loss(h_callback.history['loss'], h_callback.history['val_loss'])\n"
      ]
    },
    {
      "cell_type": "code",
      "execution_count": null,
      "id": "25bb00db",
      "metadata": {
        "id": "25bb00db",
        "outputId": "83983722-5982-48ee-815d-08bb17ad6b74",
        "colab": {
          "base_uri": "https://localhost:8080/"
        }
      },
      "outputs": [
        {
          "output_type": "stream",
          "name": "stdout",
          "text": [
            "118/118 [==============================] - 0s 1ms/step\n",
            "[[2785   54]\n",
            " [  92  819]]\n",
            "              precision    recall  f1-score   support\n",
            "\n",
            "           0       0.97      0.98      0.97      2839\n",
            "           1       0.94      0.90      0.92       911\n",
            "\n",
            "    accuracy                           0.96      3750\n",
            "   macro avg       0.95      0.94      0.95      3750\n",
            "weighted avg       0.96      0.96      0.96      3750\n",
            "\n"
          ]
        }
      ],
      "source": [
        "y_pred = classifier.predict(X_test)\n",
        "y_pred = np.round(y_pred)\n",
        "cm = confusion_matrix(y_test, y_pred)\n",
        "print(cm)\n",
        "## Classification Report\n",
        "print(classification_report(y_test, y_pred))"
      ]
    },
    {
      "cell_type": "markdown",
      "id": "686e405e",
      "metadata": {
        "id": "686e405e"
      },
      "source": [
        "### Early Stopping Callback"
      ]
    },
    {
      "cell_type": "code",
      "execution_count": null,
      "id": "98979317",
      "metadata": {
        "id": "98979317"
      },
      "outputs": [],
      "source": [
        "## Importing the EarlyStopping call back function\n",
        "from keras.callbacks import EarlyStopping"
      ]
    },
    {
      "cell_type": "code",
      "execution_count": null,
      "id": "1f7c04f3",
      "metadata": {
        "id": "1f7c04f3"
      },
      "outputs": [],
      "source": [
        "earlystopping = EarlyStopping(monitor='val_loss', patience=5)"
      ]
    },
    {
      "cell_type": "code",
      "execution_count": null,
      "id": "3eadf574",
      "metadata": {
        "id": "3eadf574",
        "outputId": "03062a14-0e37-42b7-b319-eb00513bac94",
        "colab": {
          "base_uri": "https://localhost:8080/"
        }
      },
      "outputs": [
        {
          "output_type": "stream",
          "name": "stdout",
          "text": [
            "Epoch 1/100\n",
            "704/704 [==============================] - 2s 3ms/step - loss: 0.0687 - accuracy: 0.9771 - val_loss: 0.1733 - val_accuracy: 0.9613\n",
            "Epoch 2/100\n",
            "704/704 [==============================] - 2s 3ms/step - loss: 0.0692 - accuracy: 0.9761 - val_loss: 0.1783 - val_accuracy: 0.9603\n",
            "Epoch 3/100\n",
            "704/704 [==============================] - 2s 3ms/step - loss: 0.0695 - accuracy: 0.9764 - val_loss: 0.1777 - val_accuracy: 0.9597\n",
            "Epoch 4/100\n",
            "704/704 [==============================] - 2s 2ms/step - loss: 0.0680 - accuracy: 0.9772 - val_loss: 0.1674 - val_accuracy: 0.9616\n",
            "Epoch 5/100\n",
            "704/704 [==============================] - 2s 3ms/step - loss: 0.0678 - accuracy: 0.9777 - val_loss: 0.1676 - val_accuracy: 0.9621\n",
            "Epoch 6/100\n",
            "704/704 [==============================] - 2s 3ms/step - loss: 0.0680 - accuracy: 0.9772 - val_loss: 0.1699 - val_accuracy: 0.9603\n",
            "Epoch 7/100\n",
            "704/704 [==============================] - 2s 3ms/step - loss: 0.0683 - accuracy: 0.9771 - val_loss: 0.1707 - val_accuracy: 0.9600\n",
            "Epoch 8/100\n",
            "704/704 [==============================] - 2s 3ms/step - loss: 0.0686 - accuracy: 0.9764 - val_loss: 0.1635 - val_accuracy: 0.9600\n",
            "Epoch 9/100\n",
            "704/704 [==============================] - 2s 3ms/step - loss: 0.0683 - accuracy: 0.9778 - val_loss: 0.1751 - val_accuracy: 0.9616\n",
            "Epoch 10/100\n",
            "704/704 [==============================] - 2s 3ms/step - loss: 0.0702 - accuracy: 0.9764 - val_loss: 0.1779 - val_accuracy: 0.9608\n",
            "Epoch 11/100\n",
            "704/704 [==============================] - 2s 3ms/step - loss: 0.0682 - accuracy: 0.9774 - val_loss: 0.1743 - val_accuracy: 0.9595\n",
            "Epoch 12/100\n",
            "704/704 [==============================] - 2s 2ms/step - loss: 0.0678 - accuracy: 0.9772 - val_loss: 0.1732 - val_accuracy: 0.9616\n",
            "Epoch 13/100\n",
            "704/704 [==============================] - 2s 3ms/step - loss: 0.0670 - accuracy: 0.9779 - val_loss: 0.1755 - val_accuracy: 0.9613\n"
          ]
        }
      ],
      "source": [
        "h_callback = classifier.fit(X_train, y_train, batch_size = 16, epochs = 100, validation_data=(X_test, y_test), callbacks=[earlystopping])"
      ]
    },
    {
      "cell_type": "code",
      "execution_count": null,
      "id": "2c4c4f25",
      "metadata": {
        "id": "2c4c4f25",
        "outputId": "c27ee014-1ebf-4003-c6cf-9d6cdb1edaae",
        "colab": {
          "base_uri": "https://localhost:8080/"
        }
      },
      "outputs": [
        {
          "output_type": "stream",
          "name": "stdout",
          "text": [
            "118/118 [==============================] - 0s 2ms/step - loss: 0.1755 - accuracy: 0.9613\n"
          ]
        },
        {
          "output_type": "execute_result",
          "data": {
            "text/plain": [
              "[0.1754734218120575, 0.9613333344459534]"
            ]
          },
          "metadata": {},
          "execution_count": 62
        }
      ],
      "source": [
        "classifier.evaluate(X_test, y_test)"
      ]
    },
    {
      "cell_type": "code",
      "execution_count": null,
      "id": "de589e11",
      "metadata": {
        "id": "de589e11",
        "outputId": "f29fb8a8-0c53-4d5f-bc40-ea6bb51ab0f7",
        "colab": {
          "base_uri": "https://localhost:8080/"
        }
      },
      "outputs": [
        {
          "output_type": "stream",
          "name": "stdout",
          "text": [
            "118/118 [==============================] - 0s 3ms/step\n"
          ]
        }
      ],
      "source": [
        "y_pred = classifier.predict(X_test)"
      ]
    },
    {
      "cell_type": "code",
      "execution_count": null,
      "id": "08b748d6",
      "metadata": {
        "id": "08b748d6"
      },
      "outputs": [],
      "source": [
        "y_pred = np.round(y_pred)"
      ]
    },
    {
      "cell_type": "code",
      "execution_count": null,
      "id": "d3960e70",
      "metadata": {
        "id": "d3960e70",
        "outputId": "2b606bab-5e0d-432e-8846-2544885730fd"
      },
      "outputs": [
        {
          "name": "stdout",
          "output_type": "stream",
          "text": [
            "              precision    recall  f1-score   support\n",
            "\n",
            "           0       0.98      0.98      0.98      2860\n",
            "           1       0.94      0.92      0.93       890\n",
            "\n",
            "    accuracy                           0.97      3750\n",
            "   macro avg       0.96      0.95      0.95      3750\n",
            "weighted avg       0.97      0.97      0.97      3750\n",
            "\n"
          ]
        }
      ],
      "source": [
        "print(classification_report(y_test, y_pred))"
      ]
    },
    {
      "cell_type": "code",
      "execution_count": null,
      "id": "5b7e0c32",
      "metadata": {
        "id": "5b7e0c32",
        "outputId": "3444d2fe-41b2-4f2a-b0ac-ec7e7e12c555"
      },
      "outputs": [
        {
          "data": {
            "text/plain": [
              "array([[2810,   72],\n",
              "       [  50,  818]], dtype=int64)"
            ]
          },
          "execution_count": 125,
          "metadata": {},
          "output_type": "execute_result"
        }
      ],
      "source": [
        "confusion_matrix(y_pred, y_test)"
      ]
    },
    {
      "cell_type": "code",
      "execution_count": null,
      "id": "5c5a97b2",
      "metadata": {
        "id": "5c5a97b2"
      },
      "outputs": [],
      "source": []
    },
    {
      "cell_type": "markdown",
      "source": [
        "Droping nodes in layer\n",
        "\n",
        "# it will be helpful to remove unwanted features when you have large number of features and or adding large number of nodes\n",
        "\n",
        "its nothing but features elimation technique"
      ],
      "metadata": {
        "id": "WxlYMDxBzIz_"
      },
      "id": "WxlYMDxBzIz_"
    },
    {
      "cell_type": "code",
      "source": [
        "## Importing the dropuot \n",
        "from keras.layers import Dropout"
      ],
      "metadata": {
        "id": "mRd7vq6hzL9k"
      },
      "id": "mRd7vq6hzL9k",
      "execution_count": null,
      "outputs": []
    },
    {
      "cell_type": "code",
      "source": [
        "model = Sequential()\n",
        "model.add(Dropout(0,2,input_shape = (18,)))\n",
        "model.add(Dense(18,kernel_initializer='uniform',activation='relu'))\n",
        "model.add(Dense(9,kernel_initializer='uniform',activation='relu'))\n",
        "model.add(Dense(1,kernel_initializer='uniform',activation=\"sigmoid\"))  # output layer"
      ],
      "metadata": {
        "id": "a2555VHozaPx"
      },
      "id": "a2555VHozaPx",
      "execution_count": null,
      "outputs": []
    },
    {
      "cell_type": "code",
      "source": [
        "model.compile(optimizer='adam',loss='binary_crossentropy',metrics='accuracy')"
      ],
      "metadata": {
        "id": "XBWoMCPN0iR6"
      },
      "id": "XBWoMCPN0iR6",
      "execution_count": null,
      "outputs": []
    },
    {
      "cell_type": "code",
      "source": [
        "model.fit(X_train,y_train,batch_size=32,epochs=50,validation_split=0.2)"
      ],
      "metadata": {
        "colab": {
          "base_uri": "https://localhost:8080/",
          "height": 692
        },
        "id": "AjChb0CE23RE",
        "outputId": "7a1f88a9-4543-451c-b49f-6bea7ef71f99"
      },
      "id": "AjChb0CE23RE",
      "execution_count": null,
      "outputs": [
        {
          "output_type": "stream",
          "name": "stdout",
          "text": [
            "Epoch 1/50\n"
          ]
        },
        {
          "output_type": "error",
          "ename": "TypeError",
          "evalue": "ignored",
          "traceback": [
            "\u001b[0;31m---------------------------------------------------------------------------\u001b[0m",
            "\u001b[0;31mTypeError\u001b[0m                                 Traceback (most recent call last)",
            "\u001b[0;32m<ipython-input-68-44dd0abd8099>\u001b[0m in \u001b[0;36m<module>\u001b[0;34m\u001b[0m\n\u001b[0;32m----> 1\u001b[0;31m \u001b[0mmodel\u001b[0m\u001b[0;34m.\u001b[0m\u001b[0mfit\u001b[0m\u001b[0;34m(\u001b[0m\u001b[0mX_train\u001b[0m\u001b[0;34m,\u001b[0m\u001b[0my_train\u001b[0m\u001b[0;34m,\u001b[0m\u001b[0mbatch_size\u001b[0m\u001b[0;34m=\u001b[0m\u001b[0;36m32\u001b[0m\u001b[0;34m,\u001b[0m\u001b[0mepochs\u001b[0m\u001b[0;34m=\u001b[0m\u001b[0;36m50\u001b[0m\u001b[0;34m,\u001b[0m\u001b[0mvalidation_split\u001b[0m\u001b[0;34m=\u001b[0m\u001b[0;36m0.2\u001b[0m\u001b[0;34m)\u001b[0m\u001b[0;34m\u001b[0m\u001b[0;34m\u001b[0m\u001b[0m\n\u001b[0m",
            "\u001b[0;32m/usr/local/lib/python3.7/dist-packages/keras/utils/traceback_utils.py\u001b[0m in \u001b[0;36merror_handler\u001b[0;34m(*args, **kwargs)\u001b[0m\n\u001b[1;32m     65\u001b[0m     \u001b[0;32mexcept\u001b[0m \u001b[0mException\u001b[0m \u001b[0;32mas\u001b[0m \u001b[0me\u001b[0m\u001b[0;34m:\u001b[0m  \u001b[0;31m# pylint: disable=broad-except\u001b[0m\u001b[0;34m\u001b[0m\u001b[0;34m\u001b[0m\u001b[0m\n\u001b[1;32m     66\u001b[0m       \u001b[0mfiltered_tb\u001b[0m \u001b[0;34m=\u001b[0m \u001b[0m_process_traceback_frames\u001b[0m\u001b[0;34m(\u001b[0m\u001b[0me\u001b[0m\u001b[0;34m.\u001b[0m\u001b[0m__traceback__\u001b[0m\u001b[0;34m)\u001b[0m\u001b[0;34m\u001b[0m\u001b[0;34m\u001b[0m\u001b[0m\n\u001b[0;32m---> 67\u001b[0;31m       \u001b[0;32mraise\u001b[0m \u001b[0me\u001b[0m\u001b[0;34m.\u001b[0m\u001b[0mwith_traceback\u001b[0m\u001b[0;34m(\u001b[0m\u001b[0mfiltered_tb\u001b[0m\u001b[0;34m)\u001b[0m \u001b[0;32mfrom\u001b[0m \u001b[0;32mNone\u001b[0m\u001b[0;34m\u001b[0m\u001b[0;34m\u001b[0m\u001b[0m\n\u001b[0m\u001b[1;32m     68\u001b[0m     \u001b[0;32mfinally\u001b[0m\u001b[0;34m:\u001b[0m\u001b[0;34m\u001b[0m\u001b[0;34m\u001b[0m\u001b[0m\n\u001b[1;32m     69\u001b[0m       \u001b[0;32mdel\u001b[0m \u001b[0mfiltered_tb\u001b[0m\u001b[0;34m\u001b[0m\u001b[0;34m\u001b[0m\u001b[0m\n",
            "\u001b[0;32m/usr/local/lib/python3.7/dist-packages/keras/engine/training.py\u001b[0m in \u001b[0;36mtf__train_function\u001b[0;34m(iterator)\u001b[0m\n\u001b[1;32m     13\u001b[0m                 \u001b[0;32mtry\u001b[0m\u001b[0;34m:\u001b[0m\u001b[0;34m\u001b[0m\u001b[0;34m\u001b[0m\u001b[0m\n\u001b[1;32m     14\u001b[0m                     \u001b[0mdo_return\u001b[0m \u001b[0;34m=\u001b[0m \u001b[0;32mTrue\u001b[0m\u001b[0;34m\u001b[0m\u001b[0;34m\u001b[0m\u001b[0m\n\u001b[0;32m---> 15\u001b[0;31m                     \u001b[0mretval_\u001b[0m \u001b[0;34m=\u001b[0m \u001b[0mag__\u001b[0m\u001b[0;34m.\u001b[0m\u001b[0mconverted_call\u001b[0m\u001b[0;34m(\u001b[0m\u001b[0mag__\u001b[0m\u001b[0;34m.\u001b[0m\u001b[0mld\u001b[0m\u001b[0;34m(\u001b[0m\u001b[0mstep_function\u001b[0m\u001b[0;34m)\u001b[0m\u001b[0;34m,\u001b[0m \u001b[0;34m(\u001b[0m\u001b[0mag__\u001b[0m\u001b[0;34m.\u001b[0m\u001b[0mld\u001b[0m\u001b[0;34m(\u001b[0m\u001b[0mself\u001b[0m\u001b[0;34m)\u001b[0m\u001b[0;34m,\u001b[0m \u001b[0mag__\u001b[0m\u001b[0;34m.\u001b[0m\u001b[0mld\u001b[0m\u001b[0;34m(\u001b[0m\u001b[0miterator\u001b[0m\u001b[0;34m)\u001b[0m\u001b[0;34m)\u001b[0m\u001b[0;34m,\u001b[0m \u001b[0;32mNone\u001b[0m\u001b[0;34m,\u001b[0m \u001b[0mfscope\u001b[0m\u001b[0;34m)\u001b[0m\u001b[0;34m\u001b[0m\u001b[0;34m\u001b[0m\u001b[0m\n\u001b[0m\u001b[1;32m     16\u001b[0m                 \u001b[0;32mexcept\u001b[0m\u001b[0;34m:\u001b[0m\u001b[0;34m\u001b[0m\u001b[0;34m\u001b[0m\u001b[0m\n\u001b[1;32m     17\u001b[0m                     \u001b[0mdo_return\u001b[0m \u001b[0;34m=\u001b[0m \u001b[0;32mFalse\u001b[0m\u001b[0;34m\u001b[0m\u001b[0;34m\u001b[0m\u001b[0m\n",
            "\u001b[0;31mTypeError\u001b[0m: in user code:\n\n    File \"/usr/local/lib/python3.7/dist-packages/keras/engine/training.py\", line 1051, in train_function  *\n        return step_function(self, iterator)\n    File \"/usr/local/lib/python3.7/dist-packages/keras/engine/training.py\", line 1040, in step_function  **\n        outputs = model.distribute_strategy.run(run_step, args=(data,))\n    File \"/usr/local/lib/python3.7/dist-packages/keras/engine/training.py\", line 1030, in run_step  **\n        outputs = model.train_step(data)\n    File \"/usr/local/lib/python3.7/dist-packages/keras/engine/training.py\", line 889, in train_step\n        y_pred = self(x, training=True)\n    File \"/usr/local/lib/python3.7/dist-packages/keras/utils/traceback_utils.py\", line 67, in error_handler\n        raise e.with_traceback(filtered_tb) from None\n    File \"/usr/local/lib/python3.7/dist-packages/keras/layers/regularization/dropout.py\", line 99, in _get_noise_shape\n        for i, value in enumerate(self.noise_shape):\n\n    TypeError: Exception encountered when calling layer \"dropout_2\" (type Dropout).\n    \n    'int' object is not iterable\n    \n    Call arguments received by layer \"dropout_2\" (type Dropout):\n      • inputs=tf.Tensor(shape=(None, 18), dtype=float32)\n      • training=True\n"
          ]
        }
      ]
    },
    {
      "cell_type": "code",
      "source": [
        "model.evaluate(X_test,y_test)"
      ],
      "metadata": {
        "colab": {
          "base_uri": "https://localhost:8080/"
        },
        "id": "Hs-mmJ2d0_av",
        "outputId": "5546f3a0-4588-45a9-97ac-047dda7b7260"
      },
      "id": "Hs-mmJ2d0_av",
      "execution_count": null,
      "outputs": [
        {
          "output_type": "stream",
          "name": "stdout",
          "text": [
            "118/118 [==============================] - 0s 2ms/step - loss: 0.6933 - accuracy: 0.3152\n"
          ]
        },
        {
          "output_type": "execute_result",
          "data": {
            "text/plain": [
              "[0.6932762265205383, 0.31520000100135803]"
            ]
          },
          "metadata": {},
          "execution_count": 51
        }
      ]
    },
    {
      "cell_type": "code",
      "source": [
        "y_pred = np.round(model.predict(X_test))"
      ],
      "metadata": {
        "colab": {
          "base_uri": "https://localhost:8080/"
        },
        "id": "9FMNl2Nx1LfT",
        "outputId": "3ca332bf-5822-47c9-faef-98ed590f2e5a"
      },
      "id": "9FMNl2Nx1LfT",
      "execution_count": null,
      "outputs": [
        {
          "output_type": "stream",
          "name": "stdout",
          "text": [
            "118/118 [==============================] - 0s 2ms/step\n"
          ]
        }
      ]
    },
    {
      "cell_type": "code",
      "source": [
        "print(classification_report(y_test,y_pred))"
      ],
      "metadata": {
        "colab": {
          "base_uri": "https://localhost:8080/"
        },
        "id": "U-dlEsWZ18xe",
        "outputId": "36c8198b-81c9-4d4d-c5c1-29ee780838d5"
      },
      "id": "U-dlEsWZ18xe",
      "execution_count": null,
      "outputs": [
        {
          "output_type": "stream",
          "name": "stdout",
          "text": [
            "              precision    recall  f1-score   support\n",
            "\n",
            "           0       0.73      0.15      0.25      2839\n",
            "           1       0.24      0.82      0.37       911\n",
            "\n",
            "    accuracy                           0.32      3750\n",
            "   macro avg       0.48      0.49      0.31      3750\n",
            "weighted avg       0.61      0.32      0.28      3750\n",
            "\n"
          ]
        }
      ]
    },
    {
      "cell_type": "code",
      "source": [],
      "metadata": {
        "id": "4ZhQC_hJ2Z6c"
      },
      "id": "4ZhQC_hJ2Z6c",
      "execution_count": null,
      "outputs": []
    }
  ],
  "metadata": {
    "kernelspec": {
      "display_name": "Python 3 (ipykernel)",
      "language": "python",
      "name": "python3"
    },
    "language_info": {
      "codemirror_mode": {
        "name": "ipython",
        "version": 3
      },
      "file_extension": ".py",
      "mimetype": "text/x-python",
      "name": "python",
      "nbconvert_exporter": "python",
      "pygments_lexer": "ipython3",
      "version": "3.9.7"
    },
    "colab": {
      "provenance": []
    }
  },
  "nbformat": 4,
  "nbformat_minor": 5
}